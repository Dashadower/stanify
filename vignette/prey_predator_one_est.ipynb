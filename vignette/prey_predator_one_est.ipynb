{
 "cells": [
  {
   "cell_type": "code",
   "execution_count": 1,
   "metadata": {
    "collapsed": true,
    "pycharm": {
     "name": "#%%\n"
    }
   },
   "outputs": [],
   "source": [
    "import arviz as az\n",
    "import numpy as np\n",
    "import matplotlib.pyplot as plt\n",
    "from cmdstanpy import CmdStanModel\n",
    "from stanify.calibrator.draws_data_mapper import draws2data2draws\n",
    "from stanify.calibrator.calib_utilities import check_consistency\n",
    "import random\n",
    "random.seed(10)\n",
    "import warnings\n",
    "warnings.filterwarnings('ignore')"
   ]
  },
  {
   "cell_type": "markdown",
   "source": [
    "##  developing model families using visual diagnostics and numeric summaries\n",
    "If you run the user interface code which states input and output format as below, it creates specific model, data, plot (two `.stan`, two `.nc files, multiple plots) in three folders. With minimal number of clicks, your model quality can be inspected. This aim of this vignette is to inspect how given the two outputs (model and data) can be analyzed for your next move.\n",
    "\n",
    "keyword: simulation-based calibration, pair plots, divergence, InferenceData"
   ],
   "metadata": {
    "collapsed": false,
    "pycharm": {
     "name": "#%% md\n"
    }
   }
  },
  {
   "cell_type": "markdown",
   "source": [
    "## user interface"
   ],
   "metadata": {
    "collapsed": false,
    "pycharm": {
     "name": "#%% md\n"
    }
   }
  },
  {
   "cell_type": "code",
   "execution_count": 3,
   "outputs": [
    {
     "name": "stderr",
     "output_type": "stream",
     "text": [
      "09:13:49 - cmdstanpy - INFO - compiling stan file /Users/hyunjimoon/Dropbox/stanify/vignette/stan_files/prey_predator_S1N200Q2R1/draws2data.stan to exe file /Users/hyunjimoon/Dropbox/stanify/vignette/stan_files/prey_predator_S1N200Q2R1/draws2data\n",
      "09:14:03 - cmdstanpy - INFO - compiled model executable: /Users/hyunjimoon/Dropbox/stanify/vignette/stan_files/prey_predator_S1N200Q2R1/draws2data\n",
      "09:14:03 - cmdstanpy - WARNING - Stan compiler has produced 1 warnings:\n",
      "09:14:03 - cmdstanpy - WARNING - \n",
      "--- Translating Stan model to C++ code ---\n",
      "bin/stanc --include-paths=/Users/hyunjimoon/Dropbox/stanify/vignette/stan_files/prey_predator_S1N200Q2R1 --o=/Users/hyunjimoon/Dropbox/stanify/vignette/stan_files/prey_predator_S1N200Q2R1/draws2data.hpp /Users/hyunjimoon/Dropbox/stanify/vignette/stan_files/prey_predator_S1N200Q2R1/draws2data.stan\n",
      "Warning in '/Users/hyunjimoon/Dropbox/stanify/vignette/stan_files/prey_predator_S1N200Q2R1/draws2data.stan', line 42, column 4: Declaration\n",
      "    of arrays by placing brackets after a variable name is deprecated and\n",
      "    will be removed in Stan 2.32.0. Instead use the array keyword before the\n",
      "    type. This can be changed automatically using the auto-format flag to\n",
      "    stanc\n",
      "\n",
      "--- Compiling, linking C++ code ---\n",
      "clang++ -std=c++1y -Wno-unknown-warning-option -Wno-tautological-compare -Wno-sign-compare -D_REENTRANT -Wno-ignored-attributes     -DSTAN_THREADS -I stan/lib/stan_math/lib/tbb_2020.3/include    -O3 -I src -I stan/src -I lib/rapidjson_1.1.0/ -I lib/CLI11-1.9.1/ -I stan/lib/stan_math/ -I stan/lib/stan_math/lib/eigen_3.3.9 -I stan/lib/stan_math/lib/boost_1.78.0 -I stan/lib/stan_math/lib/sundials_6.1.1/include -I stan/lib/stan_math/lib/sundials_6.1.1/src/sundials    -DBOOST_DISABLE_ASSERTS          -c -include-pch stan/src/stan/model/model_header_threads.hpp.gch -x c++ -o /Users/hyunjimoon/Dropbox/stanify/vignette/stan_files/prey_predator_S1N200Q2R1/draws2data.o /Users/hyunjimoon/Dropbox/stanify/vignette/stan_files/prey_predator_S1N200Q2R1/draws2data.hpp\n",
      "clang++ -std=c++1y -Wno-unknown-warning-option -Wno-tautological-compare -Wno-sign-compare -D_REENTRANT -Wno-ignored-attributes     -DSTAN_THREADS -I stan/lib/stan_math/lib/tbb_2020.3/include    -O3 -I src -I stan/src -I lib/rapidjson_1.1.0/ -I lib/CLI11-1.9.1/ -I stan/lib/stan_math/ -I stan/lib/stan_math/lib/eigen_3.3.9 -I stan/lib/stan_math/lib/boost_1.78.0 -I stan/lib/stan_math/lib/sundials_6.1.1/include -I stan/lib/stan_math/lib/sundials_6.1.1/src/sundials    -DBOOST_DISABLE_ASSERTS                -Wl,-L,\"/Users/hyunjimoon/.cmdstan/cmdstan-2.30.1/stan/lib/stan_math/lib/tbb\" -Wl,-rpath,\"/Users/hyunjimoon/.cmdstan/cmdstan-2.30.1/stan/lib/stan_math/lib/tbb\"      /Users/hyunjimoon/Dropbox/stanify/vignette/stan_files/prey_predator_S1N200Q2R1/draws2data.o src/cmdstan/main_threads.o        -Wl,-L,\"/Users/hyunjimoon/.cmdstan/cmdstan-2.30.1/stan/lib/stan_math/lib/tbb\" -Wl,-rpath,\"/Users/hyunjimoon/.cmdstan/cmdstan-2.30.1/stan/lib/stan_math/lib/tbb\"   stan/lib/stan_math/lib/sundials_6.1.1/lib/libsundials_nvecserial.a stan/lib/stan_math/lib/sundials_6.1.1/lib/libsundials_cvodes.a stan/lib/stan_math/lib/sundials_6.1.1/lib/libsundials_idas.a stan/lib/stan_math/lib/sundials_6.1.1/lib/libsundials_kinsol.a  stan/lib/stan_math/lib/tbb/libtbb.dylib stan/lib/stan_math/lib/tbb/libtbbmalloc.dylib stan/lib/stan_math/lib/tbb/libtbbmalloc_proxy.dylib -o /Users/hyunjimoon/Dropbox/stanify/vignette/stan_files/prey_predator_S1N200Q2R1/draws2data\n",
      "rm -f /Users/hyunjimoon/Dropbox/stanify/vignette/stan_files/prey_predator_S1N200Q2R1/draws2data.o\n",
      "\n",
      "09:14:03 - cmdstanpy - INFO - CmdStan start processing\n"
     ]
    },
    {
     "data": {
      "text/plain": "chain 1 |          | 00:00 Status",
      "application/vnd.jupyter.widget-view+json": {
       "version_major": 2,
       "version_minor": 0,
       "model_id": "e7ef12a98211493baa17342eb4f2001b"
      }
     },
     "metadata": {},
     "output_type": "display_data"
    },
    {
     "name": "stdout",
     "output_type": "stream",
     "text": [
      "                                                                                "
     ]
    },
    {
     "name": "stderr",
     "output_type": "stream",
     "text": [
      "09:14:03 - cmdstanpy - INFO - CmdStan done processing.\n"
     ]
    },
    {
     "name": "stdout",
     "output_type": "stream",
     "text": [
      "\n"
     ]
    },
    {
     "name": "stderr",
     "output_type": "stream",
     "text": [
      "09:14:07 - cmdstanpy - INFO - compiling stan file /Users/hyunjimoon/Dropbox/stanify/vignette/stan_files/prey_predator_S1N200Q2R1/data2draws.stan to exe file /Users/hyunjimoon/Dropbox/stanify/vignette/stan_files/prey_predator_S1N200Q2R1/data2draws\n",
      "09:14:23 - cmdstanpy - INFO - compiled model executable: /Users/hyunjimoon/Dropbox/stanify/vignette/stan_files/prey_predator_S1N200Q2R1/data2draws\n",
      "09:14:23 - cmdstanpy - WARNING - Stan compiler has produced 1 warnings:\n",
      "09:14:23 - cmdstanpy - WARNING - \n",
      "--- Translating Stan model to C++ code ---\n",
      "bin/stanc --include-paths=/Users/hyunjimoon/Dropbox/stanify/vignette/stan_files/prey_predator_S1N200Q2R1 --o=/Users/hyunjimoon/Dropbox/stanify/vignette/stan_files/prey_predator_S1N200Q2R1/data2draws.hpp /Users/hyunjimoon/Dropbox/stanify/vignette/stan_files/prey_predator_S1N200Q2R1/data2draws.stan\n",
      "Warning in '/Users/hyunjimoon/Dropbox/stanify/vignette/stan_files/prey_predator_S1N200Q2R1/data2draws.stan', line 46, column 4: Declaration\n",
      "    of arrays by placing brackets after a variable name is deprecated and\n",
      "    will be removed in Stan 2.32.0. Instead use the array keyword before the\n",
      "    type. This can be changed automatically using the auto-format flag to\n",
      "    stanc\n",
      "\n",
      "--- Compiling, linking C++ code ---\n",
      "clang++ -std=c++1y -Wno-unknown-warning-option -Wno-tautological-compare -Wno-sign-compare -D_REENTRANT -Wno-ignored-attributes     -DSTAN_THREADS -I stan/lib/stan_math/lib/tbb_2020.3/include    -O3 -I src -I stan/src -I lib/rapidjson_1.1.0/ -I lib/CLI11-1.9.1/ -I stan/lib/stan_math/ -I stan/lib/stan_math/lib/eigen_3.3.9 -I stan/lib/stan_math/lib/boost_1.78.0 -I stan/lib/stan_math/lib/sundials_6.1.1/include -I stan/lib/stan_math/lib/sundials_6.1.1/src/sundials    -DBOOST_DISABLE_ASSERTS          -c -include-pch stan/src/stan/model/model_header_threads.hpp.gch -x c++ -o /Users/hyunjimoon/Dropbox/stanify/vignette/stan_files/prey_predator_S1N200Q2R1/data2draws.o /Users/hyunjimoon/Dropbox/stanify/vignette/stan_files/prey_predator_S1N200Q2R1/data2draws.hpp\n",
      "clang++ -std=c++1y -Wno-unknown-warning-option -Wno-tautological-compare -Wno-sign-compare -D_REENTRANT -Wno-ignored-attributes     -DSTAN_THREADS -I stan/lib/stan_math/lib/tbb_2020.3/include    -O3 -I src -I stan/src -I lib/rapidjson_1.1.0/ -I lib/CLI11-1.9.1/ -I stan/lib/stan_math/ -I stan/lib/stan_math/lib/eigen_3.3.9 -I stan/lib/stan_math/lib/boost_1.78.0 -I stan/lib/stan_math/lib/sundials_6.1.1/include -I stan/lib/stan_math/lib/sundials_6.1.1/src/sundials    -DBOOST_DISABLE_ASSERTS                -Wl,-L,\"/Users/hyunjimoon/.cmdstan/cmdstan-2.30.1/stan/lib/stan_math/lib/tbb\" -Wl,-rpath,\"/Users/hyunjimoon/.cmdstan/cmdstan-2.30.1/stan/lib/stan_math/lib/tbb\"      /Users/hyunjimoon/Dropbox/stanify/vignette/stan_files/prey_predator_S1N200Q2R1/data2draws.o src/cmdstan/main_threads.o        -Wl,-L,\"/Users/hyunjimoon/.cmdstan/cmdstan-2.30.1/stan/lib/stan_math/lib/tbb\" -Wl,-rpath,\"/Users/hyunjimoon/.cmdstan/cmdstan-2.30.1/stan/lib/stan_math/lib/tbb\"   stan/lib/stan_math/lib/sundials_6.1.1/lib/libsundials_nvecserial.a stan/lib/stan_math/lib/sundials_6.1.1/lib/libsundials_cvodes.a stan/lib/stan_math/lib/sundials_6.1.1/lib/libsundials_idas.a stan/lib/stan_math/lib/sundials_6.1.1/lib/libsundials_kinsol.a  stan/lib/stan_math/lib/tbb/libtbb.dylib stan/lib/stan_math/lib/tbb/libtbbmalloc.dylib stan/lib/stan_math/lib/tbb/libtbbmalloc_proxy.dylib -o /Users/hyunjimoon/Dropbox/stanify/vignette/stan_files/prey_predator_S1N200Q2R1/data2draws\n",
      "rm -f /Users/hyunjimoon/Dropbox/stanify/vignette/stan_files/prey_predator_S1N200Q2R1/data2draws.o\n",
      "\n",
      "09:14:23 - cmdstanpy - INFO - CmdStan start processing\n"
     ]
    },
    {
     "data": {
      "text/plain": "chain 1 |          | 00:00 Status",
      "application/vnd.jupyter.widget-view+json": {
       "version_major": 2,
       "version_minor": 0,
       "model_id": "56f6cd6da61344979d01c6a6a1fdf8d7"
      }
     },
     "metadata": {},
     "output_type": "display_data"
    },
    {
     "data": {
      "text/plain": "chain 2 |          | 00:00 Status",
      "application/vnd.jupyter.widget-view+json": {
       "version_major": 2,
       "version_minor": 0,
       "model_id": "54a17f320d5b4ebf9fa71ebd071c70de"
      }
     },
     "metadata": {},
     "output_type": "display_data"
    },
    {
     "name": "stdout",
     "output_type": "stream",
     "text": [
      "                                                                                                                                                                "
     ]
    },
    {
     "name": "stderr",
     "output_type": "stream",
     "text": [
      "09:32:30 - cmdstanpy - INFO - CmdStan done processing.\n",
      "09:32:30 - cmdstanpy - WARNING - Non-fatal error during sampling:\n",
      "Exception: ode_rk45: ode parameters and data is inf, but must be finite! (in '/Users/hyunjimoon/Dropbox/stanify/vignette/stan_files/prey_predator_S1N200Q2R1/data2draws.stan', line 46, column 4 to column 162)\n",
      "\tException: ode_rk45: ode parameters and data is inf, but must be finite! (in '/Users/hyunjimoon/Dropbox/stanify/vignette/stan_files/prey_predator_S1N200Q2R1/data2draws.stan', line 46, column 4 to column 162)\n",
      "\tException: ode_rk45: ode parameters and data is inf, but must be finite! (in '/Users/hyunjimoon/Dropbox/stanify/vignette/stan_files/prey_predator_S1N200Q2R1/data2draws.stan', line 46, column 4 to column 162)\n",
      "\tException: ode_rk45: ode parameters and data is inf, but must be finite! (in '/Users/hyunjimoon/Dropbox/stanify/vignette/stan_files/prey_predator_S1N200Q2R1/data2draws.stan', line 46, column 4 to column 162)\n",
      "\tException: ode_rk45: ode parameters and data is inf, but must be finite! (in '/Users/hyunjimoon/Dropbox/stanify/vignette/stan_files/prey_predator_S1N200Q2R1/data2draws.stan', line 46, column 4 to column 162)\n",
      "\tException: ode_rk45: ode parameters and data is inf, but must be finite! (in '/Users/hyunjimoon/Dropbox/stanify/vignette/stan_files/prey_predator_S1N200Q2R1/data2draws.stan', line 46, column 4 to column 162)\n",
      "\tException: normal_lpdf: Location parameter[1] is nan, but must be finite! (in '/Users/hyunjimoon/Dropbox/stanify/vignette/stan_files/prey_predator_S1N200Q2R1/data2draws.stan', line 57, column 4 to column 43)\n",
      "\tException: normal_lpdf: Location parameter[1] is nan, but must be finite! (in '/Users/hyunjimoon/Dropbox/stanify/vignette/stan_files/prey_predator_S1N200Q2R1/data2draws.stan', line 57, column 4 to column 43)\n",
      "\tException: ode_rk45: ode parameters and data is inf, but must be finite! (in '/Users/hyunjimoon/Dropbox/stanify/vignette/stan_files/prey_predator_S1N200Q2R1/data2draws.stan', line 46, column 4 to column 162)\n",
      "\tException: ode_rk45: ode parameters and data is inf, but must be finite! (in '/Users/hyunjimoon/Dropbox/stanify/vignette/stan_files/prey_predator_S1N200Q2R1/data2draws.stan', line 46, column 4 to column 162)\n",
      "\tException: ode_rk45: ode parameters and data is inf, but must be finite! (in '/Users/hyunjimoon/Dropbox/stanify/vignette/stan_files/prey_predator_S1N200Q2R1/data2draws.stan', line 46, column 4 to column 162)\n",
      "\tException: normal_lpdf: Location parameter[1] is nan, but must be finite! (in '/Users/hyunjimoon/Dropbox/stanify/vignette/stan_files/prey_predator_S1N200Q2R1/data2draws.stan', line 57, column 4 to column 43)\n",
      "Consider re-running with show_console=True if the above output is unclear!\n",
      "09:32:30 - cmdstanpy - WARNING - Some chains may have failed to converge.\n",
      "\tChain 1 had 5 iterations at max treedepth (10.0%)\n",
      "\tUse function \"diagnose()\" to see further information.\n"
     ]
    },
    {
     "name": "stdout",
     "output_type": "stream",
     "text": [
      "\n"
     ]
    },
    {
     "ename": "AttributeError",
     "evalue": "'list' object has no attribute 'items'",
     "output_type": "error",
     "traceback": [
      "\u001B[0;31m---------------------------------------------------------------------------\u001B[0m",
      "\u001B[0;31mAttributeError\u001B[0m                            Traceback (most recent call last)",
      "Cell \u001B[0;32mIn [3], line 49\u001B[0m\n\u001B[1;32m     26\u001B[0m output_format \u001B[38;5;241m=\u001B[39m \u001B[38;5;28mdict\u001B[39m(\n\u001B[1;32m     27\u001B[0m     prior_predictive\u001B[38;5;241m=\u001B[39m[\u001B[38;5;124m\"\u001B[39m\u001B[38;5;124mprey_obs\u001B[39m\u001B[38;5;124m\"\u001B[39m, \u001B[38;5;124m\"\u001B[39m\u001B[38;5;124mpredator_obs\u001B[39m\u001B[38;5;124m\"\u001B[39m],\n\u001B[1;32m     28\u001B[0m     posterior_predictive\u001B[38;5;241m=\u001B[39m[\u001B[38;5;124m\"\u001B[39m\u001B[38;5;124mprey_obs_post\u001B[39m\u001B[38;5;124m\"\u001B[39m, \u001B[38;5;124m\"\u001B[39m\u001B[38;5;124mpredator_obs_post\u001B[39m\u001B[38;5;124m\"\u001B[39m],\n\u001B[0;32m   (...)\u001B[0m\n\u001B[1;32m     45\u001B[0m     }\n\u001B[1;32m     46\u001B[0m )\n\u001B[1;32m     48\u001B[0m \u001B[38;5;28;01mif\u001B[39;00m check_consistency(setting, precision, numeric, prior, output_format):\n\u001B[0;32m---> 49\u001B[0m     model \u001B[38;5;241m=\u001B[39m \u001B[43mdraws2data2draws\u001B[49m\u001B[43m(\u001B[49m\u001B[38;5;124;43m'\u001B[39;49m\u001B[38;5;124;43m../vensim_models/prey_predator/prey_predator.mdl\u001B[39;49m\u001B[38;5;124;43m'\u001B[39;49m\u001B[43m,\u001B[49m\u001B[43m \u001B[49m\u001B[43msetting\u001B[49m\u001B[43m,\u001B[49m\u001B[43m \u001B[49m\u001B[43mprecision\u001B[49m\u001B[43m,\u001B[49m\u001B[43m \u001B[49m\u001B[43mnumeric\u001B[49m\u001B[43m,\u001B[49m\u001B[43m \u001B[49m\u001B[43mprior\u001B[49m\u001B[43m,\u001B[49m\u001B[43m \u001B[49m\u001B[43moutput_format\u001B[49m\u001B[43m)\u001B[49m\n",
      "File \u001B[0;32m~/Dropbox/stanify/stanify/calibrator/draws_data_mapper.py:106\u001B[0m, in \u001B[0;36mdraws2data2draws\u001B[0;34m(vensim, setting, precision, numeric, prior, idata_kwargs)\u001B[0m\n\u001B[1;32m     99\u001B[0m     draws2data_s \u001B[38;5;241m=\u001B[39m draws2data_dataset\u001B[38;5;241m.\u001B[39misel(prior_draw\u001B[38;5;241m=\u001B[39ms)\n\u001B[1;32m    100\u001B[0m     data_dict \u001B[38;5;241m=\u001B[39m {\n\u001B[1;32m    101\u001B[0m         \u001B[38;5;241m*\u001B[39m\u001B[38;5;241m*\u001B[39mdraws2data_s[model\u001B[38;5;241m.\u001B[39mget_obs_vector_names()], \u001B[38;5;66;03m# specific to s th synthetic data (obs)\u001B[39;00m\n\u001B[1;32m    102\u001B[0m         \u001B[38;5;241m*\u001B[39m\u001B[38;5;241m*\u001B[39mnumeric, \u001B[38;5;66;03m# driving data (don't use model.numeric which is precision + numeric)\u001B[39;00m\n\u001B[1;32m    103\u001B[0m         \u001B[38;5;241m*\u001B[39m\u001B[38;5;241m*\u001B[39mprecision\n\u001B[1;32m    104\u001B[0m     }\n\u001B[0;32m--> 106\u001B[0m     data2draws_idata_s \u001B[38;5;241m=\u001B[39m \u001B[43mdata2draws\u001B[49m\u001B[43m(\u001B[49m\u001B[43mmodel\u001B[49m\u001B[43m,\u001B[49m\u001B[43m \u001B[49m\u001B[43midata_kwargs\u001B[49m\u001B[43m,\u001B[49m\u001B[43m \u001B[49m\u001B[43mdata_dict\u001B[49m\u001B[43m)\u001B[49m\n\u001B[1;32m    107\u001B[0m     sbc_list\u001B[38;5;241m.\u001B[39mappend(data2draws_idata_s)\n\u001B[1;32m    109\u001B[0m post \u001B[38;5;241m=\u001B[39m xr\u001B[38;5;241m.\u001B[39mconcat((data2draws_idata_s\u001B[38;5;241m.\u001B[39mposterior \u001B[38;5;28;01mfor\u001B[39;00m data2draws_idata_s \u001B[38;5;129;01min\u001B[39;00m sbc_list), dim\u001B[38;5;241m=\u001B[39m\u001B[38;5;124m\"\u001B[39m\u001B[38;5;124mprior_draws\u001B[39m\u001B[38;5;124m\"\u001B[39m)\n",
      "File \u001B[0;32m~/Dropbox/stanify/stanify/calibrator/draws_data_mapper.py:60\u001B[0m, in \u001B[0;36mdata2draws\u001B[0;34m(model, idata_kwargs, data_dict)\u001B[0m\n\u001B[1;32m     58\u001B[0m data2draws_data \u001B[38;5;241m=\u001B[39m model\u001B[38;5;241m.\u001B[39mstanify_data2draws()\u001B[38;5;241m.\u001B[39msample(data\u001B[38;5;241m=\u001B[39mdata_dict, chains\u001B[38;5;241m=\u001B[39m\u001B[38;5;241m2\u001B[39m, iter_sampling\u001B[38;5;241m=\u001B[39m\u001B[38;5;28mint\u001B[39m(model\u001B[38;5;241m.\u001B[39mprecision_context\u001B[38;5;241m.\u001B[39mM \u001B[38;5;241m/\u001B[39m \u001B[38;5;241m2\u001B[39m))\n\u001B[1;32m     59\u001B[0m \u001B[38;5;66;03m# save as .nc\u001B[39;00m\n\u001B[0;32m---> 60\u001B[0m data2draws_idata \u001B[38;5;241m=\u001B[39m az\u001B[38;5;241m.\u001B[39mfrom_cmdstanpy(posterior\u001B[38;5;241m=\u001B[39mdata2draws_data, \u001B[38;5;241m*\u001B[39m\u001B[38;5;241m*\u001B[39midata_kwargs)\n\u001B[1;32m     61\u001B[0m idata2netcdf4store(\u001B[38;5;124mf\u001B[39m\u001B[38;5;124m\"\u001B[39m\u001B[38;5;132;01m{\u001B[39;00mget_data_path(model\u001B[38;5;241m.\u001B[39mmodel_name)\u001B[38;5;132;01m}\u001B[39;00m\u001B[38;5;124m/data2draws.nc\u001B[39m\u001B[38;5;124m\"\u001B[39m, data2draws_idata)\n\u001B[1;32m     63\u001B[0m \u001B[38;5;66;03m# plot as .png\u001B[39;00m\n\u001B[1;32m     64\u001B[0m \u001B[38;5;66;03m#plot_posterior_qoi(model.model_name, model.est_param_name, model.hier_est_param_name)\u001B[39;00m\n",
      "File \u001B[0;32m~/Dropbox/stanify/venv/lib/python3.10/site-packages/arviz/data/io_cmdstanpy.py:844\u001B[0m, in \u001B[0;36mfrom_cmdstanpy\u001B[0;34m(posterior, posterior_predictive, predictions, prior, prior_predictive, observed_data, constant_data, predictions_constant_data, log_likelihood, index_origin, coords, dims, save_warmup, dtypes)\u001B[0m\n\u001B[1;32m    763\u001B[0m \u001B[38;5;28;01mdef\u001B[39;00m \u001B[38;5;21mfrom_cmdstanpy\u001B[39m(\n\u001B[1;32m    764\u001B[0m     posterior\u001B[38;5;241m=\u001B[39m\u001B[38;5;28;01mNone\u001B[39;00m,\n\u001B[1;32m    765\u001B[0m     \u001B[38;5;241m*\u001B[39m,\n\u001B[0;32m   (...)\u001B[0m\n\u001B[1;32m    778\u001B[0m     dtypes\u001B[38;5;241m=\u001B[39m\u001B[38;5;28;01mNone\u001B[39;00m,\n\u001B[1;32m    779\u001B[0m ):\n\u001B[1;32m    780\u001B[0m     \u001B[38;5;124;03m\"\"\"Convert CmdStanPy data into an InferenceData object.\u001B[39;00m\n\u001B[1;32m    781\u001B[0m \n\u001B[1;32m    782\u001B[0m \u001B[38;5;124;03m    For a usage example read the\u001B[39;00m\n\u001B[0;32m   (...)\u001B[0m\n\u001B[1;32m    827\u001B[0m \u001B[38;5;124;03m    InferenceData object\u001B[39;00m\n\u001B[1;32m    828\u001B[0m \u001B[38;5;124;03m    \"\"\"\u001B[39;00m\n\u001B[1;32m    829\u001B[0m     \u001B[38;5;28;01mreturn\u001B[39;00m \u001B[43mCmdStanPyConverter\u001B[49m\u001B[43m(\u001B[49m\n\u001B[1;32m    830\u001B[0m \u001B[43m        \u001B[49m\u001B[43mposterior\u001B[49m\u001B[38;5;241;43m=\u001B[39;49m\u001B[43mposterior\u001B[49m\u001B[43m,\u001B[49m\n\u001B[1;32m    831\u001B[0m \u001B[43m        \u001B[49m\u001B[43mposterior_predictive\u001B[49m\u001B[38;5;241;43m=\u001B[39;49m\u001B[43mposterior_predictive\u001B[49m\u001B[43m,\u001B[49m\n\u001B[1;32m    832\u001B[0m \u001B[43m        \u001B[49m\u001B[43mpredictions\u001B[49m\u001B[38;5;241;43m=\u001B[39;49m\u001B[43mpredictions\u001B[49m\u001B[43m,\u001B[49m\n\u001B[1;32m    833\u001B[0m \u001B[43m        \u001B[49m\u001B[43mprior\u001B[49m\u001B[38;5;241;43m=\u001B[39;49m\u001B[43mprior\u001B[49m\u001B[43m,\u001B[49m\n\u001B[1;32m    834\u001B[0m \u001B[43m        \u001B[49m\u001B[43mprior_predictive\u001B[49m\u001B[38;5;241;43m=\u001B[39;49m\u001B[43mprior_predictive\u001B[49m\u001B[43m,\u001B[49m\n\u001B[1;32m    835\u001B[0m \u001B[43m        \u001B[49m\u001B[43mobserved_data\u001B[49m\u001B[38;5;241;43m=\u001B[39;49m\u001B[43mobserved_data\u001B[49m\u001B[43m,\u001B[49m\n\u001B[1;32m    836\u001B[0m \u001B[43m        \u001B[49m\u001B[43mconstant_data\u001B[49m\u001B[38;5;241;43m=\u001B[39;49m\u001B[43mconstant_data\u001B[49m\u001B[43m,\u001B[49m\n\u001B[1;32m    837\u001B[0m \u001B[43m        \u001B[49m\u001B[43mpredictions_constant_data\u001B[49m\u001B[38;5;241;43m=\u001B[39;49m\u001B[43mpredictions_constant_data\u001B[49m\u001B[43m,\u001B[49m\n\u001B[1;32m    838\u001B[0m \u001B[43m        \u001B[49m\u001B[43mlog_likelihood\u001B[49m\u001B[38;5;241;43m=\u001B[39;49m\u001B[43mlog_likelihood\u001B[49m\u001B[43m,\u001B[49m\n\u001B[1;32m    839\u001B[0m \u001B[43m        \u001B[49m\u001B[43mindex_origin\u001B[49m\u001B[38;5;241;43m=\u001B[39;49m\u001B[43mindex_origin\u001B[49m\u001B[43m,\u001B[49m\n\u001B[1;32m    840\u001B[0m \u001B[43m        \u001B[49m\u001B[43mcoords\u001B[49m\u001B[38;5;241;43m=\u001B[39;49m\u001B[43mcoords\u001B[49m\u001B[43m,\u001B[49m\n\u001B[1;32m    841\u001B[0m \u001B[43m        \u001B[49m\u001B[43mdims\u001B[49m\u001B[38;5;241;43m=\u001B[39;49m\u001B[43mdims\u001B[49m\u001B[43m,\u001B[49m\n\u001B[1;32m    842\u001B[0m \u001B[43m        \u001B[49m\u001B[43msave_warmup\u001B[49m\u001B[38;5;241;43m=\u001B[39;49m\u001B[43msave_warmup\u001B[49m\u001B[43m,\u001B[49m\n\u001B[1;32m    843\u001B[0m \u001B[43m        \u001B[49m\u001B[43mdtypes\u001B[49m\u001B[38;5;241;43m=\u001B[39;49m\u001B[43mdtypes\u001B[49m\u001B[43m,\u001B[49m\n\u001B[0;32m--> 844\u001B[0m \u001B[43m    \u001B[49m\u001B[43m)\u001B[49m\u001B[38;5;241;43m.\u001B[39;49m\u001B[43mto_inference_data\u001B[49m\u001B[43m(\u001B[49m\u001B[43m)\u001B[49m\n",
      "File \u001B[0;32m~/Dropbox/stanify/venv/lib/python3.10/site-packages/arviz/data/io_cmdstanpy.py:462\u001B[0m, in \u001B[0;36mCmdStanPyConverter.to_inference_data\u001B[0;34m(self)\u001B[0m\n\u001B[1;32m    445\u001B[0m \u001B[38;5;28;01mdef\u001B[39;00m \u001B[38;5;21mto_inference_data\u001B[39m(\u001B[38;5;28mself\u001B[39m):\n\u001B[1;32m    446\u001B[0m     \u001B[38;5;124;03m\"\"\"Convert all available data to an InferenceData object.\u001B[39;00m\n\u001B[1;32m    447\u001B[0m \n\u001B[1;32m    448\u001B[0m \u001B[38;5;124;03m    Note that if groups can not be created (i.e., there is no `output`, so\u001B[39;00m\n\u001B[1;32m    449\u001B[0m \u001B[38;5;124;03m    the `posterior` and `sample_stats` can not be extracted), then the InferenceData\u001B[39;00m\n\u001B[1;32m    450\u001B[0m \u001B[38;5;124;03m    will not have those groups.\u001B[39;00m\n\u001B[1;32m    451\u001B[0m \u001B[38;5;124;03m    \"\"\"\u001B[39;00m\n\u001B[1;32m    452\u001B[0m     \u001B[38;5;28;01mreturn\u001B[39;00m InferenceData(\n\u001B[1;32m    453\u001B[0m         save_warmup\u001B[38;5;241m=\u001B[39m\u001B[38;5;28mself\u001B[39m\u001B[38;5;241m.\u001B[39msave_warmup,\n\u001B[1;32m    454\u001B[0m         \u001B[38;5;241m*\u001B[39m\u001B[38;5;241m*\u001B[39m{\n\u001B[1;32m    455\u001B[0m             \u001B[38;5;124m\"\u001B[39m\u001B[38;5;124mposterior\u001B[39m\u001B[38;5;124m\"\u001B[39m: \u001B[38;5;28mself\u001B[39m\u001B[38;5;241m.\u001B[39mposterior_to_xarray(),\n\u001B[1;32m    456\u001B[0m             \u001B[38;5;124m\"\u001B[39m\u001B[38;5;124msample_stats\u001B[39m\u001B[38;5;124m\"\u001B[39m: \u001B[38;5;28mself\u001B[39m\u001B[38;5;241m.\u001B[39msample_stats_to_xarray(),\n\u001B[1;32m    457\u001B[0m             \u001B[38;5;124m\"\u001B[39m\u001B[38;5;124mposterior_predictive\u001B[39m\u001B[38;5;124m\"\u001B[39m: \u001B[38;5;28mself\u001B[39m\u001B[38;5;241m.\u001B[39mposterior_predictive_to_xarray(),\n\u001B[1;32m    458\u001B[0m             \u001B[38;5;124m\"\u001B[39m\u001B[38;5;124mpredictions\u001B[39m\u001B[38;5;124m\"\u001B[39m: \u001B[38;5;28mself\u001B[39m\u001B[38;5;241m.\u001B[39mpredictions_to_xarray(),\n\u001B[1;32m    459\u001B[0m             \u001B[38;5;124m\"\u001B[39m\u001B[38;5;124mprior\u001B[39m\u001B[38;5;124m\"\u001B[39m: \u001B[38;5;28mself\u001B[39m\u001B[38;5;241m.\u001B[39mprior_to_xarray(),\n\u001B[1;32m    460\u001B[0m             \u001B[38;5;124m\"\u001B[39m\u001B[38;5;124msample_stats_prior\u001B[39m\u001B[38;5;124m\"\u001B[39m: \u001B[38;5;28mself\u001B[39m\u001B[38;5;241m.\u001B[39msample_stats_prior_to_xarray(),\n\u001B[1;32m    461\u001B[0m             \u001B[38;5;124m\"\u001B[39m\u001B[38;5;124mprior_predictive\u001B[39m\u001B[38;5;124m\"\u001B[39m: \u001B[38;5;28mself\u001B[39m\u001B[38;5;241m.\u001B[39mprior_predictive_to_xarray(),\n\u001B[0;32m--> 462\u001B[0m             \u001B[38;5;124m\"\u001B[39m\u001B[38;5;124mobserved_data\u001B[39m\u001B[38;5;124m\"\u001B[39m: \u001B[38;5;28;43mself\u001B[39;49m\u001B[38;5;241;43m.\u001B[39;49m\u001B[43mobserved_data_to_xarray\u001B[49m\u001B[43m(\u001B[49m\u001B[43m)\u001B[49m,\n\u001B[1;32m    463\u001B[0m             \u001B[38;5;124m\"\u001B[39m\u001B[38;5;124mconstant_data\u001B[39m\u001B[38;5;124m\"\u001B[39m: \u001B[38;5;28mself\u001B[39m\u001B[38;5;241m.\u001B[39mconstant_data_to_xarray(),\n\u001B[1;32m    464\u001B[0m             \u001B[38;5;124m\"\u001B[39m\u001B[38;5;124mpredictions_constant_data\u001B[39m\u001B[38;5;124m\"\u001B[39m: \u001B[38;5;28mself\u001B[39m\u001B[38;5;241m.\u001B[39mpredictions_constant_data_to_xarray(),\n\u001B[1;32m    465\u001B[0m             \u001B[38;5;124m\"\u001B[39m\u001B[38;5;124mlog_likelihood\u001B[39m\u001B[38;5;124m\"\u001B[39m: \u001B[38;5;28mself\u001B[39m\u001B[38;5;241m.\u001B[39mlog_likelihood_to_xarray(),\n\u001B[1;32m    466\u001B[0m         },\n\u001B[1;32m    467\u001B[0m     )\n",
      "File \u001B[0;32m~/Dropbox/stanify/venv/lib/python3.10/site-packages/arviz/data/base.py:65\u001B[0m, in \u001B[0;36mrequires.__call__.<locals>.wrapped\u001B[0;34m(cls)\u001B[0m\n\u001B[1;32m     63\u001B[0m     \u001B[38;5;28;01mif\u001B[39;00m \u001B[38;5;28mall\u001B[39m((\u001B[38;5;28mgetattr\u001B[39m(\u001B[38;5;28mcls\u001B[39m, prop_i) \u001B[38;5;129;01mis\u001B[39;00m \u001B[38;5;28;01mNone\u001B[39;00m \u001B[38;5;28;01mfor\u001B[39;00m prop_i \u001B[38;5;129;01min\u001B[39;00m prop)):\n\u001B[1;32m     64\u001B[0m         \u001B[38;5;28;01mreturn\u001B[39;00m \u001B[38;5;28;01mNone\u001B[39;00m\n\u001B[0;32m---> 65\u001B[0m \u001B[38;5;28;01mreturn\u001B[39;00m \u001B[43mfunc\u001B[49m\u001B[43m(\u001B[49m\u001B[38;5;28;43mcls\u001B[39;49m\u001B[43m)\u001B[49m\n",
      "File \u001B[0;32m~/Dropbox/stanify/venv/lib/python3.10/site-packages/arviz/data/io_cmdstanpy.py:411\u001B[0m, in \u001B[0;36mCmdStanPyConverter.observed_data_to_xarray\u001B[0;34m(self)\u001B[0m\n\u001B[1;32m    408\u001B[0m \u001B[38;5;129m@requires\u001B[39m(\u001B[38;5;124m\"\u001B[39m\u001B[38;5;124mobserved_data\u001B[39m\u001B[38;5;124m\"\u001B[39m)\n\u001B[1;32m    409\u001B[0m \u001B[38;5;28;01mdef\u001B[39;00m \u001B[38;5;21mobserved_data_to_xarray\u001B[39m(\u001B[38;5;28mself\u001B[39m):\n\u001B[1;32m    410\u001B[0m     \u001B[38;5;124;03m\"\"\"Convert observed data to xarray.\"\"\"\u001B[39;00m\n\u001B[0;32m--> 411\u001B[0m     \u001B[38;5;28;01mreturn\u001B[39;00m \u001B[43mdict_to_dataset\u001B[49m\u001B[43m(\u001B[49m\n\u001B[1;32m    412\u001B[0m \u001B[43m        \u001B[49m\u001B[38;5;28;43mself\u001B[39;49m\u001B[38;5;241;43m.\u001B[39;49m\u001B[43mobserved_data\u001B[49m\u001B[43m,\u001B[49m\n\u001B[1;32m    413\u001B[0m \u001B[43m        \u001B[49m\u001B[43mlibrary\u001B[49m\u001B[38;5;241;43m=\u001B[39;49m\u001B[38;5;28;43mself\u001B[39;49m\u001B[38;5;241;43m.\u001B[39;49m\u001B[43mcmdstanpy\u001B[49m\u001B[43m,\u001B[49m\n\u001B[1;32m    414\u001B[0m \u001B[43m        \u001B[49m\u001B[43mcoords\u001B[49m\u001B[38;5;241;43m=\u001B[39;49m\u001B[38;5;28;43mself\u001B[39;49m\u001B[38;5;241;43m.\u001B[39;49m\u001B[43mcoords\u001B[49m\u001B[43m,\u001B[49m\n\u001B[1;32m    415\u001B[0m \u001B[43m        \u001B[49m\u001B[43mdims\u001B[49m\u001B[38;5;241;43m=\u001B[39;49m\u001B[38;5;28;43mself\u001B[39;49m\u001B[38;5;241;43m.\u001B[39;49m\u001B[43mdims\u001B[49m\u001B[43m,\u001B[49m\n\u001B[1;32m    416\u001B[0m \u001B[43m        \u001B[49m\u001B[43mdefault_dims\u001B[49m\u001B[38;5;241;43m=\u001B[39;49m\u001B[43m[\u001B[49m\u001B[43m]\u001B[49m\u001B[43m,\u001B[49m\n\u001B[1;32m    417\u001B[0m \u001B[43m        \u001B[49m\u001B[43mindex_origin\u001B[49m\u001B[38;5;241;43m=\u001B[39;49m\u001B[38;5;28;43mself\u001B[39;49m\u001B[38;5;241;43m.\u001B[39;49m\u001B[43mindex_origin\u001B[49m\u001B[43m,\u001B[49m\n\u001B[1;32m    418\u001B[0m \u001B[43m    \u001B[49m\u001B[43m)\u001B[49m\n",
      "File \u001B[0;32m~/Dropbox/stanify/venv/lib/python3.10/site-packages/arviz/data/base.py:316\u001B[0m, in \u001B[0;36mdict_to_dataset\u001B[0;34m(data, attrs, library, coords, dims, default_dims, index_origin, skip_event_dims)\u001B[0m\n\u001B[1;32m    303\u001B[0m \u001B[38;5;28;01mif\u001B[39;00m dims \u001B[38;5;129;01mis\u001B[39;00m \u001B[38;5;28;01mNone\u001B[39;00m:\n\u001B[1;32m    304\u001B[0m     dims \u001B[38;5;241m=\u001B[39m {}\n\u001B[1;32m    306\u001B[0m data_vars \u001B[38;5;241m=\u001B[39m {\n\u001B[1;32m    307\u001B[0m     key: numpy_to_data_array(\n\u001B[1;32m    308\u001B[0m         values,\n\u001B[1;32m    309\u001B[0m         var_name\u001B[38;5;241m=\u001B[39mkey,\n\u001B[1;32m    310\u001B[0m         coords\u001B[38;5;241m=\u001B[39mcoords,\n\u001B[1;32m    311\u001B[0m         dims\u001B[38;5;241m=\u001B[39mdims\u001B[38;5;241m.\u001B[39mget(key),\n\u001B[1;32m    312\u001B[0m         default_dims\u001B[38;5;241m=\u001B[39mdefault_dims,\n\u001B[1;32m    313\u001B[0m         index_origin\u001B[38;5;241m=\u001B[39mindex_origin,\n\u001B[1;32m    314\u001B[0m         skip_event_dims\u001B[38;5;241m=\u001B[39mskip_event_dims,\n\u001B[1;32m    315\u001B[0m     )\n\u001B[0;32m--> 316\u001B[0m     \u001B[38;5;28;01mfor\u001B[39;00m key, values \u001B[38;5;129;01min\u001B[39;00m \u001B[43mdata\u001B[49m\u001B[38;5;241;43m.\u001B[39;49m\u001B[43mitems\u001B[49m()\n\u001B[1;32m    317\u001B[0m }\n\u001B[1;32m    318\u001B[0m \u001B[38;5;28;01mreturn\u001B[39;00m xr\u001B[38;5;241m.\u001B[39mDataset(data_vars\u001B[38;5;241m=\u001B[39mdata_vars, attrs\u001B[38;5;241m=\u001B[39mmake_attrs(attrs\u001B[38;5;241m=\u001B[39mattrs, library\u001B[38;5;241m=\u001B[39mlibrary))\n",
      "\u001B[0;31mAttributeError\u001B[0m: 'list' object has no attribute 'items'"
     ]
    },
    {
     "data": {
      "text/plain": "<Figure size 1500x800 with 1 Axes>",
      "image/png": "[encoded data removed]"
     },
     "metadata": {},
     "output_type": "display_data"
    }
   ],
   "source": [
    "precision ={\n",
    "    \"S\": 1, # # of draws from prior\n",
    "    \"M\": 100, # # of draws from posterior (# of chains * # of draws from each chain)\n",
    "    \"N\": 200, # # of observation\n",
    "    \"R\": 1, # # of subgroups for hierarchical Bayes\n",
    "}\n",
    "\n",
    "setting = {\n",
    "    \"est_param_names\": ( \"pred_birth_frac\"),\n",
    "    \"hier_est_param_names\" : (),\n",
    "    \"target_simulated_vector_names\": (\"prey\", \"predator\"),\n",
    "    \"driving_vector_names\": (\"process_noise_uniform_driving\"),\n",
    "    \"model_name\": \"prey_predator\",\n",
    "}\n",
    "\n",
    "numeric = {\n",
    "    \"process_noise_uniform_driving\": np.random.uniform(low=-.5, high=.5, size = precision['N']),\n",
    "    'process_noise_scale': 0.01\n",
    "}\n",
    "\n",
    "prior = {\n",
    "    (\"pred_birth_frac\", \"normal\",  0.9, 0.001, 0),\n",
    "    (\"m_noise_scale\", \"normal\", .01, .001, 0)\n",
    "}\n",
    "\n",
    "output_format = dict(\n",
    "    prior_predictive=[\"prey_obs\", \"predator_obs\"],\n",
    "    posterior_predictive=[\"prey_obs_post\", \"predator_obs_post\"],\n",
    "    log_likelihood={\n",
    "        \"loglik\": \"loglik\"\n",
    "    },\n",
    "    coords={\n",
    "        \"time\": [n for n in range(precision['N'])],\n",
    "        \"stock\": setting['target_simulated_vector_names'],\n",
    "        \"region\": [r for r in range(precision['R'])]\n",
    "    },\n",
    "    dims={\n",
    "        'initial_outcome': [\"stock\"],\n",
    "        'integrated_result': [\"time\", \"stock\"],\n",
    "        'prey': [\"time\"],\n",
    "        'predator': [\"time\"],\n",
    "        'process_noise': [\"time\"],\n",
    "        \"prey_obs\": [\"time\"],\n",
    "        \"predator_obs\": [\"time\"],\n",
    "    }\n",
    ")\n",
    "\n",
    "if check_consistency(setting, precision, numeric, prior, output_format):\n",
    "    model = draws2data2draws('../vensim_models/prey_predator/prey_predator.mdl', setting, precision, numeric, prior, output_format)"
   ],
   "metadata": {
    "collapsed": false,
    "pycharm": {
     "name": "#%%\n"
    }
   }
  },
  {
   "cell_type": "markdown",
   "source": [
    "We load the produced data for plotting. Please refer to the end of this document for model (stan code) and data structure which is Stanify's main contribution, but not the scope here."
   ],
   "metadata": {
    "collapsed": false,
    "pycharm": {
     "name": "#%% md\n"
    }
   }
  },
  {
   "cell_type": "code",
   "execution_count": null,
   "outputs": [],
   "source": [
    "draws2data = az.from_netcdf(f\"data/{model.name}/draws2data.nc\")\n",
    "data2draws = az.from_netcdf(f\"data/{model.name}/data2draws.nc\")"
   ],
   "metadata": {
    "collapsed": false,
    "pycharm": {
     "name": "#%%\n"
    }
   }
  },
  {
   "cell_type": "markdown",
   "source": [
    "## diagnose numerically with InferenceData\n",
    "\n",
    "`draws2data` have three groups: `prior`, `prior_predictive`, `samp_stats_prior`.First click the arrow to inspect dataset structure of each group. If you click database icon, it will show each data variable (estimated parameter, target simulated vectors for `prior` group, observed vector for `prior_predictive` group, lp and acceptance rate for `sample_stats_prior` group)"
   ],
   "metadata": {
    "collapsed": false,
    "pycharm": {
     "name": "#%% md\n"
    }
   }
  },
  {
   "cell_type": "code",
   "execution_count": null,
   "outputs": [],
   "source": [
    "draws2data"
   ],
   "metadata": {
    "collapsed": false,
    "pycharm": {
     "name": "#%%\n"
    }
   }
  },
  {
   "cell_type": "markdown",
   "source": [],
   "metadata": {
    "collapsed": false,
    "pycharm": {
     "name": "#%% md\n"
    }
   }
  },
  {
   "cell_type": "markdown",
   "source": [
    "\n",
    "`data2draws` have four groups: `posterior`, `prior_predictive`, `log_likelihood`, `samp_stats`. First click the arrow to inspect dataset structure of each group. If you click database icon, it will show each data variable (estimated parameter, target simulated vectors for `posterior` group, observed vector (adding measurement noise on target simulated vector posterior) for `prior_predictive` group, loglikelihood of each posterior sample for `log_likelihood`, lp, acceptance_rate, tree_depth, energy (HMC alg.parameters) `sample_stats_prior` group)"
   ],
   "metadata": {
    "collapsed": false,
    "pycharm": {
     "name": "#%% md\n"
    }
   }
  },
  {
   "cell_type": "code",
   "execution_count": null,
   "outputs": [],
   "source": [
    "data2draws"
   ],
   "metadata": {
    "collapsed": false,
    "pycharm": {
     "name": "#%%\n"
    }
   }
  },
  {
   "cell_type": "markdown",
   "source": [
    "summary function returns mean, sd, credible interval for estimated parameter and target simulated vector. mcse, effective sample size (ess), r_hat tells quality of each variables' sample. Refer to [Stan manual](https://mc-stan.org/docs/reference-manual/effective-sample-size.html) for ess details."
   ],
   "metadata": {
    "collapsed": false,
    "pycharm": {
     "name": "#%% md\n"
    }
   }
  },
  {
   "cell_type": "code",
   "execution_count": null,
   "outputs": [],
   "source": [
    "az.summary(data2draws)"
   ],
   "metadata": {
    "collapsed": false,
    "pycharm": {
     "name": "#%%\n"
    }
   }
  },
  {
   "cell_type": "markdown",
   "source": [
    "## Diagnose visually with time series, trace, pair, rank plots"
   ],
   "metadata": {
    "collapsed": false,
    "pycharm": {
     "name": "#%% md\n"
    }
   }
  },
  {
   "cell_type": "markdown",
   "source": [
    "### time series of target simulated and its measurement noise added observed vector"
   ],
   "metadata": {
    "collapsed": false,
    "pycharm": {
     "name": "#%% md\n"
    }
   }
  },
  {
   "cell_type": "code",
   "execution_count": null,
   "outputs": [],
   "source": [
    "fig, (ax1, ax2) = plt.subplots(nrows=1, ncols=2, figsize=(15, 8), sharey=True)\n",
    "\n",
    "for target in ['prey', 'predator']:\n",
    "    ax1.plot(draws2data.prior[target].mean('prior_draw').to_dataframe().values, label=f\"{target}\")\n",
    "ax1.legend(loc= 'upper right')\n",
    "\n",
    "for target in ['prey', 'predator']:\n",
    "    ax2.plot(draws2data.prior_predictive[f'{target}_obs'].mean('prior_draw').to_dataframe().values, label=f\"{target}_obs\")\n",
    "ax2.legend(loc= 'upper right')\n"
   ],
   "metadata": {
    "collapsed": false,
    "pycharm": {
     "name": "#%%\n"
    }
   }
  },
  {
   "cell_type": "markdown",
   "source": [
    "### trace plot\n",
    "shows estiamted prameters are not well-mixed between chains"
   ],
   "metadata": {
    "collapsed": false,
    "pycharm": {
     "name": "#%% md\n"
    }
   }
  },
  {
   "cell_type": "code",
   "execution_count": null,
   "outputs": [],
   "source": [
    "az.plot_trace(data2draws, figsize= (30, 20), var_names= ['pred_birth_frac', 'prey_birth_frac'], kind = \"rank_bars\")"
   ],
   "metadata": {
    "collapsed": false,
    "pycharm": {
     "name": "#%%\n"
    }
   }
  },
  {
   "cell_type": "markdown",
   "source": [
    "### pair plot focused and all"
   ],
   "metadata": {
    "collapsed": false,
    "pycharm": {
     "name": "#%% md\n"
    }
   }
  },
  {
   "cell_type": "code",
   "execution_count": null,
   "outputs": [],
   "source": [
    "ax = az.plot_pair(data2draws,  var_names=['prey_birth_frac', 'pred_birth_frac'], divergences=True, textsize=22,)"
   ],
   "metadata": {
    "collapsed": false,
    "pycharm": {
     "name": "#%%\n"
    }
   }
  },
  {
   "cell_type": "code",
   "execution_count": null,
   "outputs": [],
   "source": [
    "ax = az.plot_pair(data2draws,  divergences=True, textsize=22,) #, backend=\"bokeh\" for interactive plot"
   ],
   "metadata": {
    "collapsed": false,
    "pycharm": {
     "name": "#%%\n"
    }
   }
  },
  {
   "cell_type": "markdown",
   "source": [
    "### rank plot\n",
    "indicates more than one peak"
   ],
   "metadata": {
    "collapsed": false,
    "pycharm": {
     "name": "#%% md\n"
    }
   }
  },
  {
   "cell_type": "code",
   "execution_count": null,
   "outputs": [],
   "source": [
    "fig, axes = plt.subplots(1, 2)\n",
    "az.plot_rank(data2draws, var_names=(\"prey_birth_frac\", \"pred_birth_frac\"), ax=axes)"
   ],
   "metadata": {
    "collapsed": false,
    "pycharm": {
     "name": "#%%\n"
    }
   }
  },
  {
   "cell_type": "markdown",
   "source": [
    "\n",
    "# Appendix"
   ],
   "metadata": {
    "collapsed": false,
    "pycharm": {
     "name": "#%% md\n"
    }
   }
  },
  {
   "cell_type": "markdown",
   "source": [
    "## model"
   ],
   "metadata": {
    "collapsed": false,
    "pycharm": {
     "name": "#%% md\n"
    }
   }
  },
  {
   "cell_type": "code",
   "execution_count": null,
   "outputs": [],
   "source": [
    "print(CmdStanModel(stan_file=f\"stan_files/{model.name}/draws2data.stan\").code())\n",
    "print(CmdStanModel(stan_file=f\"stan_files/{model.name}/data2draws.stan\").code())"
   ],
   "metadata": {
    "collapsed": false,
    "pycharm": {
     "name": "#%%\n"
    }
   }
  },
  {
   "cell_type": "code",
   "execution_count": null,
   "outputs": [],
   "source": [],
   "metadata": {
    "collapsed": false,
    "pycharm": {
     "name": "#%%\n"
    }
   }
  }
 ],
 "metadata": {
  "kernelspec": {
   "display_name": "Python 3",
   "language": "python",
   "name": "python3"
  },
  "language_info": {
   "codemirror_mode": {
    "name": "ipython",
    "version": 2
   },
   "file_extension": ".py",
   "mimetype": "text/x-python",
   "name": "python",
   "nbconvert_exporter": "python",
   "pygments_lexer": "ipython2",
   "version": "2.7.6"
  }
 },
 "nbformat": 4,
 "nbformat_minor": 0
}