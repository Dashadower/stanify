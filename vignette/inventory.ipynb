{
 "cells": [
  {
   "cell_type": "code",
   "execution_count": 1,
   "metadata": {
    "collapsed": true,
    "pycharm": {
     "name": "#%%\n"
    }
   },
   "outputs": [],
   "source": [
    "import arviz as az\n",
    "import numpy as np\n",
    "import matplotlib.pyplot as plt\n",
    "from cmdstanpy import CmdStanModel\n",
    "from stanify.calibrator.draws_data_mapper import draws2data2draws\n",
    "from stanify.calibrator.calib_utilities import check_consistency\n",
    "import random\n",
    "random.seed(10)\n",
    "import numpy as np\n",
    "import pandas as pd\n",
    "import warnings\n",
    "warnings.filterwarnings('ignore')"
   ]
  },
  {
   "cell_type": "markdown",
   "source": [
    "##  Develop model families with numeric and visual diagnosis\n",
    "Now we move on to decion workflow with business dynamics. The size of the model increased (from two stocks to four stocks, from two loops to three loops). Moreover, external data is used for customer order rate, and concept of measurement is captured through stocked-flow variables."
   ],
   "metadata": {
    "collapsed": false,
    "pycharm": {
     "name": "#%% md\n"
    }
   }
  },
  {
   "cell_type": "markdown",
   "source": [
    "## user interface"
   ],
   "metadata": {
    "collapsed": false,
    "pycharm": {
     "name": "#%% md\n"
    }
   }
  },
  {
   "cell_type": "code",
   "execution_count": 2,
   "outputs": [
    {
     "name": "stderr",
     "output_type": "stream",
     "text": [
      "23:36:40 - cmdstanpy - INFO - compiling stan file /Users/hyunjimoon/Dropbox/stanify/vignette/stan_files/Inven_S1N200Q2R1/draws2data.stan to exe file /Users/hyunjimoon/Dropbox/stanify/vignette/stan_files/Inven_S1N200Q2R1/draws2data\n",
      "23:37:00 - cmdstanpy - INFO - compiled model executable: /Users/hyunjimoon/Dropbox/stanify/vignette/stan_files/Inven_S1N200Q2R1/draws2data\n",
      "23:37:00 - cmdstanpy - WARNING - Stan compiler has produced 1 warnings:\n",
      "23:37:00 - cmdstanpy - WARNING - \n",
      "--- Translating Stan model to C++ code ---\n",
      "bin/stanc --include-paths=/Users/hyunjimoon/Dropbox/stanify/vignette/stan_files/Inven_S1N200Q2R1 --o=/Users/hyunjimoon/Dropbox/stanify/vignette/stan_files/Inven_S1N200Q2R1/draws2data.hpp /Users/hyunjimoon/Dropbox/stanify/vignette/stan_files/Inven_S1N200Q2R1/draws2data.stan\n",
      "Warning in '/Users/hyunjimoon/Dropbox/stanify/vignette/stan_files/Inven_S1N200Q2R1/draws2data.stan', line 56, column 4: Declaration\n",
      "    of arrays by placing brackets after a variable name is deprecated and\n",
      "    will be removed in Stan 2.32.0. Instead use the array keyword before the\n",
      "    type. This can be changed automatically using the auto-format flag to\n",
      "    stanc\n",
      "\n",
      "--- Compiling, linking C++ code ---\n",
      "clang++ -std=c++1y -Wno-unknown-warning-option -Wno-tautological-compare -Wno-sign-compare -D_REENTRANT -Wno-ignored-attributes     -DSTAN_THREADS -I stan/lib/stan_math/lib/tbb_2020.3/include    -O3 -I src -I stan/src -I lib/rapidjson_1.1.0/ -I lib/CLI11-1.9.1/ -I stan/lib/stan_math/ -I stan/lib/stan_math/lib/eigen_3.3.9 -I stan/lib/stan_math/lib/boost_1.78.0 -I stan/lib/stan_math/lib/sundials_6.1.1/include -I stan/lib/stan_math/lib/sundials_6.1.1/src/sundials    -DBOOST_DISABLE_ASSERTS          -c -include-pch stan/src/stan/model/model_header_threads.hpp.gch -x c++ -o /Users/hyunjimoon/Dropbox/stanify/vignette/stan_files/Inven_S1N200Q2R1/draws2data.o /Users/hyunjimoon/Dropbox/stanify/vignette/stan_files/Inven_S1N200Q2R1/draws2data.hpp\n",
      "clang++ -std=c++1y -Wno-unknown-warning-option -Wno-tautological-compare -Wno-sign-compare -D_REENTRANT -Wno-ignored-attributes     -DSTAN_THREADS -I stan/lib/stan_math/lib/tbb_2020.3/include    -O3 -I src -I stan/src -I lib/rapidjson_1.1.0/ -I lib/CLI11-1.9.1/ -I stan/lib/stan_math/ -I stan/lib/stan_math/lib/eigen_3.3.9 -I stan/lib/stan_math/lib/boost_1.78.0 -I stan/lib/stan_math/lib/sundials_6.1.1/include -I stan/lib/stan_math/lib/sundials_6.1.1/src/sundials    -DBOOST_DISABLE_ASSERTS                -Wl,-L,\"/Users/hyunjimoon/.cmdstan/cmdstan-2.30.1/stan/lib/stan_math/lib/tbb\" -Wl,-rpath,\"/Users/hyunjimoon/.cmdstan/cmdstan-2.30.1/stan/lib/stan_math/lib/tbb\"      /Users/hyunjimoon/Dropbox/stanify/vignette/stan_files/Inven_S1N200Q2R1/draws2data.o src/cmdstan/main_threads.o        -Wl,-L,\"/Users/hyunjimoon/.cmdstan/cmdstan-2.30.1/stan/lib/stan_math/lib/tbb\" -Wl,-rpath,\"/Users/hyunjimoon/.cmdstan/cmdstan-2.30.1/stan/lib/stan_math/lib/tbb\"   stan/lib/stan_math/lib/sundials_6.1.1/lib/libsundials_nvecserial.a stan/lib/stan_math/lib/sundials_6.1.1/lib/libsundials_cvodes.a stan/lib/stan_math/lib/sundials_6.1.1/lib/libsundials_idas.a stan/lib/stan_math/lib/sundials_6.1.1/lib/libsundials_kinsol.a  stan/lib/stan_math/lib/tbb/libtbb.dylib stan/lib/stan_math/lib/tbb/libtbbmalloc.dylib stan/lib/stan_math/lib/tbb/libtbbmalloc_proxy.dylib -o /Users/hyunjimoon/Dropbox/stanify/vignette/stan_files/Inven_S1N200Q2R1/draws2data\n",
      "rm -f /Users/hyunjimoon/Dropbox/stanify/vignette/stan_files/Inven_S1N200Q2R1/draws2data.o\n",
      "\n",
      "23:37:01 - cmdstanpy - INFO - CmdStan start processing\n"
     ]
    },
    {
     "data": {
      "text/plain": "chain 1 |          | 00:00 Status",
      "application/vnd.jupyter.widget-view+json": {
       "version_major": 2,
       "version_minor": 0,
       "model_id": "e9e7dedb02e745168e57f68542e3ce58"
      }
     },
     "metadata": {},
     "output_type": "display_data"
    },
    {
     "name": "stdout",
     "output_type": "stream",
     "text": [
      "                                                                                "
     ]
    },
    {
     "name": "stderr",
     "output_type": "stream",
     "text": [
      "23:37:01 - cmdstanpy - INFO - CmdStan done processing.\n"
     ]
    },
    {
     "name": "stdout",
     "output_type": "stream",
     "text": [
      "\n"
     ]
    },
    {
     "name": "stderr",
     "output_type": "stream",
     "text": [
      "23:37:09 - cmdstanpy - INFO - compiling stan file /Users/hyunjimoon/Dropbox/stanify/vignette/stan_files/Inven_S1N200Q2R1/data2draws.stan to exe file /Users/hyunjimoon/Dropbox/stanify/vignette/stan_files/Inven_S1N200Q2R1/data2draws\n",
      "23:37:36 - cmdstanpy - INFO - compiled model executable: /Users/hyunjimoon/Dropbox/stanify/vignette/stan_files/Inven_S1N200Q2R1/data2draws\n",
      "23:37:36 - cmdstanpy - WARNING - Stan compiler has produced 1 warnings:\n",
      "23:37:36 - cmdstanpy - WARNING - \n",
      "--- Translating Stan model to C++ code ---\n",
      "bin/stanc --include-paths=/Users/hyunjimoon/Dropbox/stanify/vignette/stan_files/Inven_S1N200Q2R1 --o=/Users/hyunjimoon/Dropbox/stanify/vignette/stan_files/Inven_S1N200Q2R1/data2draws.hpp /Users/hyunjimoon/Dropbox/stanify/vignette/stan_files/Inven_S1N200Q2R1/data2draws.stan\n",
      "Warning in '/Users/hyunjimoon/Dropbox/stanify/vignette/stan_files/Inven_S1N200Q2R1/data2draws.stan', line 60, column 4: Declaration\n",
      "    of arrays by placing brackets after a variable name is deprecated and\n",
      "    will be removed in Stan 2.32.0. Instead use the array keyword before the\n",
      "    type. This can be changed automatically using the auto-format flag to\n",
      "    stanc\n",
      "\n",
      "--- Compiling, linking C++ code ---\n",
      "clang++ -std=c++1y -Wno-unknown-warning-option -Wno-tautological-compare -Wno-sign-compare -D_REENTRANT -Wno-ignored-attributes     -DSTAN_THREADS -I stan/lib/stan_math/lib/tbb_2020.3/include    -O3 -I src -I stan/src -I lib/rapidjson_1.1.0/ -I lib/CLI11-1.9.1/ -I stan/lib/stan_math/ -I stan/lib/stan_math/lib/eigen_3.3.9 -I stan/lib/stan_math/lib/boost_1.78.0 -I stan/lib/stan_math/lib/sundials_6.1.1/include -I stan/lib/stan_math/lib/sundials_6.1.1/src/sundials    -DBOOST_DISABLE_ASSERTS          -c -include-pch stan/src/stan/model/model_header_threads.hpp.gch -x c++ -o /Users/hyunjimoon/Dropbox/stanify/vignette/stan_files/Inven_S1N200Q2R1/data2draws.o /Users/hyunjimoon/Dropbox/stanify/vignette/stan_files/Inven_S1N200Q2R1/data2draws.hpp\n",
      "clang++ -std=c++1y -Wno-unknown-warning-option -Wno-tautological-compare -Wno-sign-compare -D_REENTRANT -Wno-ignored-attributes     -DSTAN_THREADS -I stan/lib/stan_math/lib/tbb_2020.3/include    -O3 -I src -I stan/src -I lib/rapidjson_1.1.0/ -I lib/CLI11-1.9.1/ -I stan/lib/stan_math/ -I stan/lib/stan_math/lib/eigen_3.3.9 -I stan/lib/stan_math/lib/boost_1.78.0 -I stan/lib/stan_math/lib/sundials_6.1.1/include -I stan/lib/stan_math/lib/sundials_6.1.1/src/sundials    -DBOOST_DISABLE_ASSERTS                -Wl,-L,\"/Users/hyunjimoon/.cmdstan/cmdstan-2.30.1/stan/lib/stan_math/lib/tbb\" -Wl,-rpath,\"/Users/hyunjimoon/.cmdstan/cmdstan-2.30.1/stan/lib/stan_math/lib/tbb\"      /Users/hyunjimoon/Dropbox/stanify/vignette/stan_files/Inven_S1N200Q2R1/data2draws.o src/cmdstan/main_threads.o        -Wl,-L,\"/Users/hyunjimoon/.cmdstan/cmdstan-2.30.1/stan/lib/stan_math/lib/tbb\" -Wl,-rpath,\"/Users/hyunjimoon/.cmdstan/cmdstan-2.30.1/stan/lib/stan_math/lib/tbb\"   stan/lib/stan_math/lib/sundials_6.1.1/lib/libsundials_nvecserial.a stan/lib/stan_math/lib/sundials_6.1.1/lib/libsundials_cvodes.a stan/lib/stan_math/lib/sundials_6.1.1/lib/libsundials_idas.a stan/lib/stan_math/lib/sundials_6.1.1/lib/libsundials_kinsol.a  stan/lib/stan_math/lib/tbb/libtbb.dylib stan/lib/stan_math/lib/tbb/libtbbmalloc.dylib stan/lib/stan_math/lib/tbb/libtbbmalloc_proxy.dylib -o /Users/hyunjimoon/Dropbox/stanify/vignette/stan_files/Inven_S1N200Q2R1/data2draws\n",
      "rm -f /Users/hyunjimoon/Dropbox/stanify/vignette/stan_files/Inven_S1N200Q2R1/data2draws.o\n",
      "\n",
      "23:37:37 - cmdstanpy - INFO - CmdStan start processing\n"
     ]
    },
    {
     "data": {
      "text/plain": "chain 1 |          | 00:00 Status",
      "application/vnd.jupyter.widget-view+json": {
       "version_major": 2,
       "version_minor": 0,
       "model_id": "34d102e62bbb4078a9f1357c5cff3b30"
      }
     },
     "metadata": {},
     "output_type": "display_data"
    },
    {
     "data": {
      "text/plain": "chain 2 |          | 00:00 Status",
      "application/vnd.jupyter.widget-view+json": {
       "version_major": 2,
       "version_minor": 0,
       "model_id": "d1f98ebf8a35491c8162e88800189a50"
      }
     },
     "metadata": {},
     "output_type": "display_data"
    },
    {
     "data": {
      "text/plain": "chain 3 |          | 00:00 Status",
      "application/vnd.jupyter.widget-view+json": {
       "version_major": 2,
       "version_minor": 0,
       "model_id": "e161e5deb3174262a01dbc8fb60e6108"
      }
     },
     "metadata": {},
     "output_type": "display_data"
    },
    {
     "data": {
      "text/plain": "chain 4 |          | 00:00 Status",
      "application/vnd.jupyter.widget-view+json": {
       "version_major": 2,
       "version_minor": 0,
       "model_id": "b32255b6a6ad4d6796b0ef4509cf8679"
      }
     },
     "metadata": {},
     "output_type": "display_data"
    },
    {
     "name": "stderr",
     "output_type": "stream",
     "text": [
      "10:00:14 - cmdstanpy - ERROR - CmdStan error: terminated by signal 2 Unknown error: -2\n"
     ]
    },
    {
     "ename": "KeyboardInterrupt",
     "evalue": "",
     "output_type": "error",
     "traceback": [
      "\u001B[0;31m---------------------------------------------------------------------------\u001B[0m",
      "\u001B[0;31mKeyboardInterrupt\u001B[0m                         Traceback (most recent call last)",
      "Cell \u001B[0;32mIn [2], line 51\u001B[0m\n\u001B[1;32m     28\u001B[0m output_format \u001B[38;5;241m=\u001B[39m \u001B[38;5;28mdict\u001B[39m(\n\u001B[1;32m     29\u001B[0m     prior_predictive\u001B[38;5;241m=\u001B[39m[\u001B[38;5;124m\"\u001B[39m\u001B[38;5;124mproduction_rate_stocked_obs\u001B[39m\u001B[38;5;124m\"\u001B[39m, \u001B[38;5;124m\"\u001B[39m\u001B[38;5;124mproduction_start_rate_stocked_obs\u001B[39m\u001B[38;5;124m\"\u001B[39m],\n\u001B[1;32m     30\u001B[0m     posterior_predictive\u001B[38;5;241m=\u001B[39m[\u001B[38;5;124m\"\u001B[39m\u001B[38;5;124mproduction_rate_stocked_obs_post\u001B[39m\u001B[38;5;124m\"\u001B[39m, \u001B[38;5;124m\"\u001B[39m\u001B[38;5;124mproduction_start_rate_stocked_obs_post\u001B[39m\u001B[38;5;124m\"\u001B[39m],\n\u001B[0;32m   (...)\u001B[0m\n\u001B[1;32m     47\u001B[0m     }\n\u001B[1;32m     48\u001B[0m )\n\u001B[1;32m     50\u001B[0m \u001B[38;5;28;01mif\u001B[39;00m check_consistency(setting, precision, numeric, prior, output_format):\n\u001B[0;32m---> 51\u001B[0m     model \u001B[38;5;241m=\u001B[39m \u001B[43mdraws2data2draws\u001B[49m\u001B[43m(\u001B[49m\u001B[38;5;124;43m'\u001B[39;49m\u001B[38;5;124;43m../vensim_models/inventory/inventory.mdl\u001B[39;49m\u001B[38;5;124;43m'\u001B[39;49m\u001B[43m,\u001B[49m\u001B[43m \u001B[49m\u001B[43msetting\u001B[49m\u001B[43m,\u001B[49m\u001B[43m \u001B[49m\u001B[43mprecision\u001B[49m\u001B[43m,\u001B[49m\u001B[43m \u001B[49m\u001B[43mnumeric\u001B[49m\u001B[43m,\u001B[49m\u001B[43m \u001B[49m\u001B[43mprior\u001B[49m\u001B[43m,\u001B[49m\u001B[43m \u001B[49m\u001B[43moutput_format\u001B[49m\u001B[43m)\u001B[49m\n",
      "File \u001B[0;32m~/Dropbox/stanify/stanify/calibrator/draws_data_mapper.py:110\u001B[0m, in \u001B[0;36mdraws2data2draws\u001B[0;34m(vensim, setting, precision, numeric, prior, idata_kwargs)\u001B[0m\n\u001B[1;32m    104\u001B[0m     data_dict \u001B[38;5;241m=\u001B[39m {\n\u001B[1;32m    105\u001B[0m         \u001B[38;5;241m*\u001B[39m\u001B[38;5;241m*\u001B[39mdraws2data_s[model\u001B[38;5;241m.\u001B[39mget_obs_vector_names()], \u001B[38;5;66;03m# specific to s th synthetic data (obs)\u001B[39;00m\n\u001B[1;32m    106\u001B[0m         \u001B[38;5;241m*\u001B[39m\u001B[38;5;241m*\u001B[39mnumeric, \u001B[38;5;66;03m# driving data (don't use model.numeric which is precision + numeric)\u001B[39;00m\n\u001B[1;32m    107\u001B[0m         \u001B[38;5;241m*\u001B[39m\u001B[38;5;241m*\u001B[39mprecision\n\u001B[1;32m    108\u001B[0m     }\n\u001B[1;32m    109\u001B[0m     draws2data_s[\u001B[38;5;124m'\u001B[39m\u001B[38;5;124mprocess_noise_scale\u001B[39m\u001B[38;5;124m'\u001B[39m] \u001B[38;5;241m=\u001B[39m \u001B[38;5;241m0.0\u001B[39m\n\u001B[0;32m--> 110\u001B[0m     data2draws_idata_s \u001B[38;5;241m=\u001B[39m \u001B[43mdata2draws\u001B[49m\u001B[43m(\u001B[49m\u001B[43mmodel\u001B[49m\u001B[43m,\u001B[49m\u001B[43m \u001B[49m\u001B[43midata_kwargs\u001B[49m\u001B[43m,\u001B[49m\u001B[43m \u001B[49m\u001B[43mdata_dict\u001B[49m\u001B[43m)\u001B[49m\n\u001B[1;32m    111\u001B[0m     sbc_list\u001B[38;5;241m.\u001B[39mappend(data2draws_idata_s)\n\u001B[1;32m    113\u001B[0m post \u001B[38;5;241m=\u001B[39m xr\u001B[38;5;241m.\u001B[39mconcat((data2draws_idata_s\u001B[38;5;241m.\u001B[39mposterior \u001B[38;5;28;01mfor\u001B[39;00m data2draws_idata_s \u001B[38;5;129;01min\u001B[39;00m sbc_list), dim\u001B[38;5;241m=\u001B[39m\u001B[38;5;124m\"\u001B[39m\u001B[38;5;124mprior_draws\u001B[39m\u001B[38;5;124m\"\u001B[39m)\n",
      "File \u001B[0;32m~/Dropbox/stanify/stanify/calibrator/draws_data_mapper.py:61\u001B[0m, in \u001B[0;36mdata2draws\u001B[0;34m(model, idata_kwargs, data_dict)\u001B[0m\n\u001B[1;32m     52\u001B[0m \u001B[38;5;28;01mdef\u001B[39;00m \u001B[38;5;21mdata2draws\u001B[39m(model, idata_kwargs, data_dict):\n\u001B[1;32m     53\u001B[0m     \u001B[38;5;124;03m\"\"\"\u001B[39;00m\n\u001B[1;32m     54\u001B[0m \u001B[38;5;124;03m    Parameters\u001B[39;00m\n\u001B[1;32m     55\u001B[0m \u001B[38;5;124;03m    ----------\u001B[39;00m\n\u001B[0;32m   (...)\u001B[0m\n\u001B[1;32m     59\u001B[0m \u001B[38;5;124;03m    InferenceData type\u001B[39;00m\n\u001B[1;32m     60\u001B[0m \u001B[38;5;124;03m    \"\"\"\u001B[39;00m\n\u001B[0;32m---> 61\u001B[0m     data2draws_data \u001B[38;5;241m=\u001B[39m \u001B[43mmodel\u001B[49m\u001B[38;5;241;43m.\u001B[39;49m\u001B[43mstanify_data2draws\u001B[49m\u001B[43m(\u001B[49m\u001B[43m)\u001B[49m\u001B[38;5;241;43m.\u001B[39;49m\u001B[43msample\u001B[49m\u001B[43m(\u001B[49m\u001B[43mdata\u001B[49m\u001B[38;5;241;43m=\u001B[39;49m\u001B[43mdata_dict\u001B[49m\u001B[43m,\u001B[49m\u001B[43m \u001B[49m\u001B[43mchains\u001B[49m\u001B[38;5;241;43m=\u001B[39;49m\u001B[38;5;241;43m4\u001B[39;49m\u001B[43m,\u001B[49m\u001B[43m \u001B[49m\u001B[43miter_sampling\u001B[49m\u001B[38;5;241;43m=\u001B[39;49m\u001B[43m \u001B[49m\u001B[38;5;28;43mint\u001B[39;49m\u001B[43m(\u001B[49m\u001B[43mmodel\u001B[49m\u001B[38;5;241;43m.\u001B[39;49m\u001B[43mprecision_context\u001B[49m\u001B[38;5;241;43m.\u001B[39;49m\u001B[43mM\u001B[49m\u001B[43m \u001B[49m\u001B[38;5;241;43m/\u001B[39;49m\u001B[43m \u001B[49m\u001B[38;5;241;43m4\u001B[39;49m\u001B[43m)\u001B[49m\u001B[43m)\u001B[49m\n\u001B[1;32m     63\u001B[0m     \u001B[38;5;66;03m# add observed_data to idata_kwargs\u001B[39;00m\n\u001B[1;32m     64\u001B[0m     observed_data \u001B[38;5;241m=\u001B[39m {k: v \u001B[38;5;28;01mfor\u001B[39;00m k, v \u001B[38;5;129;01min\u001B[39;00m data_dict\u001B[38;5;241m.\u001B[39mitems() \u001B[38;5;28;01mif\u001B[39;00m k \u001B[38;5;129;01min\u001B[39;00m model\u001B[38;5;241m.\u001B[39mget_obs_vector_names()}\n",
      "File \u001B[0;32m~/Dropbox/stanify/venv/lib/python3.10/site-packages/cmdstanpy/model.py:1128\u001B[0m, in \u001B[0;36mCmdStanModel.sample\u001B[0;34m(self, data, chains, parallel_chains, threads_per_chain, seed, chain_ids, inits, iter_warmup, iter_sampling, save_warmup, thin, max_treedepth, metric, step_size, adapt_engaged, adapt_delta, adapt_init_phase, adapt_metric_window, adapt_step_size, fixed_param, output_dir, sig_figs, save_latent_dynamics, save_profile, show_progress, show_console, refresh, time_fmt, timeout, force_one_process_per_chain)\u001B[0m\n\u001B[1;32m   1117\u001B[0m     progress_hook \u001B[38;5;241m=\u001B[39m \u001B[38;5;28mself\u001B[39m\u001B[38;5;241m.\u001B[39m_wrap_sampler_progress_hook(\n\u001B[1;32m   1118\u001B[0m         chain_ids\u001B[38;5;241m=\u001B[39mchain_ids,\n\u001B[1;32m   1119\u001B[0m         total\u001B[38;5;241m=\u001B[39miter_total,\n\u001B[1;32m   1120\u001B[0m     )\n\u001B[1;32m   1121\u001B[0m runset \u001B[38;5;241m=\u001B[39m RunSet(\n\u001B[1;32m   1122\u001B[0m     args\u001B[38;5;241m=\u001B[39margs,\n\u001B[1;32m   1123\u001B[0m     chains\u001B[38;5;241m=\u001B[39mchains,\n\u001B[0;32m   (...)\u001B[0m\n\u001B[1;32m   1126\u001B[0m     one_process_per_chain\u001B[38;5;241m=\u001B[39mone_process_per_chain,\n\u001B[1;32m   1127\u001B[0m )\n\u001B[0;32m-> 1128\u001B[0m \u001B[38;5;28;01mwith\u001B[39;00m ThreadPoolExecutor(max_workers\u001B[38;5;241m=\u001B[39mparallel_procs) \u001B[38;5;28;01mas\u001B[39;00m executor:\n\u001B[1;32m   1129\u001B[0m     \u001B[38;5;28;01mfor\u001B[39;00m i \u001B[38;5;129;01min\u001B[39;00m \u001B[38;5;28mrange\u001B[39m(runset\u001B[38;5;241m.\u001B[39mnum_procs):\n\u001B[1;32m   1130\u001B[0m         executor\u001B[38;5;241m.\u001B[39msubmit(\n\u001B[1;32m   1131\u001B[0m             \u001B[38;5;28mself\u001B[39m\u001B[38;5;241m.\u001B[39m_run_cmdstan,\n\u001B[1;32m   1132\u001B[0m             runset\u001B[38;5;241m=\u001B[39mrunset,\n\u001B[0;32m   (...)\u001B[0m\n\u001B[1;32m   1137\u001B[0m             timeout\u001B[38;5;241m=\u001B[39mtimeout,\n\u001B[1;32m   1138\u001B[0m         )\n",
      "File \u001B[0;32m/Library/Frameworks/Python.framework/Versions/3.10/lib/python3.10/concurrent/futures/_base.py:637\u001B[0m, in \u001B[0;36mExecutor.__exit__\u001B[0;34m(self, exc_type, exc_val, exc_tb)\u001B[0m\n\u001B[1;32m    636\u001B[0m \u001B[38;5;28;01mdef\u001B[39;00m \u001B[38;5;21m__exit__\u001B[39m(\u001B[38;5;28mself\u001B[39m, exc_type, exc_val, exc_tb):\n\u001B[0;32m--> 637\u001B[0m     \u001B[38;5;28;43mself\u001B[39;49m\u001B[38;5;241;43m.\u001B[39;49m\u001B[43mshutdown\u001B[49m\u001B[43m(\u001B[49m\u001B[43mwait\u001B[49m\u001B[38;5;241;43m=\u001B[39;49m\u001B[38;5;28;43;01mTrue\u001B[39;49;00m\u001B[43m)\u001B[49m\n\u001B[1;32m    638\u001B[0m     \u001B[38;5;28;01mreturn\u001B[39;00m \u001B[38;5;28;01mFalse\u001B[39;00m\n",
      "File \u001B[0;32m/Library/Frameworks/Python.framework/Versions/3.10/lib/python3.10/concurrent/futures/thread.py:235\u001B[0m, in \u001B[0;36mThreadPoolExecutor.shutdown\u001B[0;34m(self, wait, cancel_futures)\u001B[0m\n\u001B[1;32m    233\u001B[0m \u001B[38;5;28;01mif\u001B[39;00m wait:\n\u001B[1;32m    234\u001B[0m     \u001B[38;5;28;01mfor\u001B[39;00m t \u001B[38;5;129;01min\u001B[39;00m \u001B[38;5;28mself\u001B[39m\u001B[38;5;241m.\u001B[39m_threads:\n\u001B[0;32m--> 235\u001B[0m         \u001B[43mt\u001B[49m\u001B[38;5;241;43m.\u001B[39;49m\u001B[43mjoin\u001B[49m\u001B[43m(\u001B[49m\u001B[43m)\u001B[49m\n",
      "File \u001B[0;32m/Library/Frameworks/Python.framework/Versions/3.10/lib/python3.10/threading.py:1089\u001B[0m, in \u001B[0;36mThread.join\u001B[0;34m(self, timeout)\u001B[0m\n\u001B[1;32m   1086\u001B[0m     \u001B[38;5;28;01mraise\u001B[39;00m \u001B[38;5;167;01mRuntimeError\u001B[39;00m(\u001B[38;5;124m\"\u001B[39m\u001B[38;5;124mcannot join current thread\u001B[39m\u001B[38;5;124m\"\u001B[39m)\n\u001B[1;32m   1088\u001B[0m \u001B[38;5;28;01mif\u001B[39;00m timeout \u001B[38;5;129;01mis\u001B[39;00m \u001B[38;5;28;01mNone\u001B[39;00m:\n\u001B[0;32m-> 1089\u001B[0m     \u001B[38;5;28;43mself\u001B[39;49m\u001B[38;5;241;43m.\u001B[39;49m\u001B[43m_wait_for_tstate_lock\u001B[49m\u001B[43m(\u001B[49m\u001B[43m)\u001B[49m\n\u001B[1;32m   1090\u001B[0m \u001B[38;5;28;01melse\u001B[39;00m:\n\u001B[1;32m   1091\u001B[0m     \u001B[38;5;66;03m# the behavior of a negative timeout isn't documented, but\u001B[39;00m\n\u001B[1;32m   1092\u001B[0m     \u001B[38;5;66;03m# historically .join(timeout=x) for x<0 has acted as if timeout=0\u001B[39;00m\n\u001B[1;32m   1093\u001B[0m     \u001B[38;5;28mself\u001B[39m\u001B[38;5;241m.\u001B[39m_wait_for_tstate_lock(timeout\u001B[38;5;241m=\u001B[39m\u001B[38;5;28mmax\u001B[39m(timeout, \u001B[38;5;241m0\u001B[39m))\n",
      "File \u001B[0;32m/Library/Frameworks/Python.framework/Versions/3.10/lib/python3.10/threading.py:1109\u001B[0m, in \u001B[0;36mThread._wait_for_tstate_lock\u001B[0;34m(self, block, timeout)\u001B[0m\n\u001B[1;32m   1106\u001B[0m     \u001B[38;5;28;01mreturn\u001B[39;00m\n\u001B[1;32m   1108\u001B[0m \u001B[38;5;28;01mtry\u001B[39;00m:\n\u001B[0;32m-> 1109\u001B[0m     \u001B[38;5;28;01mif\u001B[39;00m \u001B[43mlock\u001B[49m\u001B[38;5;241;43m.\u001B[39;49m\u001B[43macquire\u001B[49m\u001B[43m(\u001B[49m\u001B[43mblock\u001B[49m\u001B[43m,\u001B[49m\u001B[43m \u001B[49m\u001B[43mtimeout\u001B[49m\u001B[43m)\u001B[49m:\n\u001B[1;32m   1110\u001B[0m         lock\u001B[38;5;241m.\u001B[39mrelease()\n\u001B[1;32m   1111\u001B[0m         \u001B[38;5;28mself\u001B[39m\u001B[38;5;241m.\u001B[39m_stop()\n",
      "\u001B[0;31mKeyboardInterrupt\u001B[0m: "
     ]
    },
    {
     "data": {
      "text/plain": "<Figure size 1500x800 with 1 Axes>",
      "image/png": "[encoded data removed]"
     },
     "metadata": {},
     "output_type": "display_data"
    }
   ],
   "source": [
    "precision ={\n",
    "    \"S\": 1, # # of draws from prior\n",
    "    \"M\": 100, # # of draws from posterior (# of chains * # of draws from each chain)\n",
    "    \"N\": 200, # # of observation\n",
    "    \"R\": 1, # # of subgroups for hierarchical Bayes\n",
    "}\n",
    "\n",
    "setting = {\n",
    "    \"est_param_names\" : (\"inventory_adjustment_time\", \"wip_adjustment_time\"),\n",
    "    \"hier_est_param_names\": (), #\"wip_adjustment_time\",\n",
    "    \"target_simulated_vector_names\" : (\"production_rate_stocked\", \"production_start_rate_stocked\"),\n",
    "    \"driving_vector_names\" : (\"customer_order_rate\", \"process_noise_uniform_driving\"),\n",
    "    \"model_name\": \"Inven\"\n",
    "}\n",
    "\n",
    "numeric = {\n",
    "    \"customer_order_rate\": np.tile(pd.read_csv('../input_data/example_retail_sales.csv').iloc[:precision['N'], 1], 1),\n",
    "    \"process_noise_uniform_driving\": np.random.uniform(low=-.5, high=.5, size=precision['N']),\n",
    "    'process_noise_scale': .1\n",
    "}\n",
    "\n",
    "prior = {\n",
    "    (\"inventory_adjustment_time\", \"normal\", 7.00, 0.7, 0),\n",
    "    (\"wip_adjustment_time\", \"normal\", 2, 0.02, 0),\n",
    "    (\"m_noise_scale\", \"normal\", 0.01, 0.0005, 0)\n",
    "}\n",
    "\n",
    "output_format = dict(\n",
    "    prior_predictive=[\"production_rate_stocked_obs\", \"production_start_rate_stocked_obs\"],\n",
    "    posterior_predictive=[\"production_rate_stocked_obs_post\", \"production_start_rate_stocked_obs_post\"],\n",
    "    log_likelihood={\n",
    "        \"loglik\": \"loglik\"\n",
    "    },\n",
    "    coords={\n",
    "        \"time\": [n for n in range(precision['N'])],\n",
    "        \"stock\": setting['target_simulated_vector_names'],\n",
    "        \"region\": [r for r in range(precision['R'])]\n",
    "    },\n",
    "    dims={\n",
    "        'initial_outcome': [\"stock\"],\n",
    "        'integrated_result': [\"time\", \"stock\"],\n",
    "        'production_rate_stocked': [\"time\"],\n",
    "        'production_start_rate_stocked': [\"time\"],\n",
    "        'process_noise': [\"time\"],\n",
    "        \"production_rate_stocked_obs\": [\"time\"],\n",
    "        \"production_start_rate_stocked_obs\": [\"time\"],\n",
    "    }\n",
    ")\n",
    "\n",
    "if check_consistency(setting, precision, numeric, prior, output_format):\n",
    "    model = draws2data2draws('../vensim_models/inventory/inventory.mdl', setting, precision, numeric, prior, output_format)"
   ],
   "metadata": {
    "collapsed": false,
    "pycharm": {
     "name": "#%%\n"
    }
   }
  },
  {
   "cell_type": "markdown",
   "source": [
    "We load the produced data for plotting. Please refer to the end of this document for model (stan code) and data structure which is Stanify's main contribution, but not the scope here."
   ],
   "metadata": {
    "collapsed": false,
    "pycharm": {
     "name": "#%% md\n"
    }
   }
  },
  {
   "cell_type": "code",
   "execution_count": null,
   "outputs": [],
   "source": [
    "modelname = \"inven_S1N200R1\" #TODO model has attribute name so replace this with model.name\n",
    "draws2data = az.from_netcdf(f\"data/{modelname}/draws2data.nc\")\n",
    "data2draws = az.from_netcdf(f\"data/{modelname}/data2draws.nc\")"
   ],
   "metadata": {
    "collapsed": false,
    "pycharm": {
     "name": "#%%\n"
    }
   }
  },
  {
   "cell_type": "markdown",
   "source": [
    "## Diagnose numerically with InferenceData\n",
    "\n",
    "`draws2data` have three groups: `prior`, `prior_predictive`, `samp_stats_prior`.First click the arrow to inspect dataset structure of each group. If you click database icon, it will show each data variable (estimated parameter, target simulated vectors for `prior` group, observed vector for `prior_predictive` group, lp and acceptance rate for `sample_stats_prior` group)"
   ],
   "metadata": {
    "collapsed": false,
    "pycharm": {
     "name": "#%% md\n"
    }
   }
  },
  {
   "cell_type": "code",
   "execution_count": null,
   "outputs": [],
   "source": [
    "draws2data"
   ],
   "metadata": {
    "collapsed": false,
    "pycharm": {
     "name": "#%%\n"
    }
   }
  },
  {
   "cell_type": "markdown",
   "source": [],
   "metadata": {
    "collapsed": false,
    "pycharm": {
     "name": "#%% md\n"
    }
   }
  },
  {
   "cell_type": "markdown",
   "source": [
    "\n",
    "`data2draws` have four groups: `posterior`, `prior_predictive`, `log_likelihood`, `samp_stats`. First click the arrow to inspect dataset structure of each group. If you click database icon, it will show each data variable (estimated parameter, target simulated vectors for `posterior` group, observed vector (adding measurement noise on target simulated vector posterior) for `prior_predictive` group, loglikelihood of each posterior sample for `log_likelihood`, lp, acceptance_rate, tree_depth, energy (HMC alg.parameters) `sample_stats_prior` group)"
   ],
   "metadata": {
    "collapsed": false,
    "pycharm": {
     "name": "#%% md\n"
    }
   }
  },
  {
   "cell_type": "code",
   "execution_count": null,
   "outputs": [],
   "source": [
    "data2draws"
   ],
   "metadata": {
    "collapsed": false,
    "pycharm": {
     "name": "#%%\n"
    }
   }
  },
  {
   "cell_type": "markdown",
   "source": [
    "summary function returns mean, sd, credible interval for estimated parameter and target simulated vector. mcse, effective sample size (ess), r_hat tells quality of each variables' sample. Refer to [Stan manual](https://mc-stan.org/docs/reference-manual/effective-sample-size.html) for ess details."
   ],
   "metadata": {
    "collapsed": false,
    "pycharm": {
     "name": "#%% md\n"
    }
   }
  },
  {
   "cell_type": "code",
   "execution_count": null,
   "outputs": [],
   "source": [
    "az.summary(data2draws)"
   ],
   "metadata": {
    "collapsed": false,
    "pycharm": {
     "name": "#%%\n"
    }
   }
  },
  {
   "cell_type": "markdown",
   "source": [
    "## Diagnose visually with time series, trace, pair, rank plots"
   ],
   "metadata": {
    "collapsed": false,
    "pycharm": {
     "name": "#%% md\n"
    }
   }
  },
  {
   "cell_type": "markdown",
   "source": [
    "### time series of target simulated and its measurement noise added observed vector"
   ],
   "metadata": {
    "collapsed": false,
    "pycharm": {
     "name": "#%% md\n"
    }
   }
  },
  {
   "cell_type": "code",
   "execution_count": null,
   "outputs": [],
   "source": [
    "fig, (ax1, ax2) = plt.subplots(nrows=1, ncols=2, figsize=(15, 8), sharey=True)\n",
    "\n",
    "for target in ['prey', 'predator']:\n",
    "    ax1.plot(draws2data.prior[target].mean('prior_draw').to_dataframe().values, label=f\"{target}\")\n",
    "ax1.legend(loc= 'upper right')\n",
    "\n",
    "for target in ['prey', 'predator']:\n",
    "    ax2.plot(draws2data.prior_predictive[f'{target}_obs'].mean('prior_draw').to_dataframe().values, label=f\"{target}_obs\")\n",
    "ax2.legend(loc= 'upper right')\n"
   ],
   "metadata": {
    "collapsed": false,
    "pycharm": {
     "name": "#%%\n"
    }
   }
  },
  {
   "cell_type": "markdown",
   "source": [
    "### trace plot\n",
    "shows estiamted prameters are not well-mixed between chains"
   ],
   "metadata": {
    "collapsed": false,
    "pycharm": {
     "name": "#%% md\n"
    }
   }
  },
  {
   "cell_type": "code",
   "execution_count": null,
   "outputs": [],
   "source": [
    "az.plot_trace(data2draws, figsize= (30, 20), var_names= ['pred_birth_frac', 'prey_birth_frac'], kind = \"rank_bars\")"
   ],
   "metadata": {
    "collapsed": false,
    "pycharm": {
     "name": "#%%\n"
    }
   }
  },
  {
   "cell_type": "markdown",
   "source": [
    "### pair plot focused and all"
   ],
   "metadata": {
    "collapsed": false,
    "pycharm": {
     "name": "#%% md\n"
    }
   }
  },
  {
   "cell_type": "code",
   "execution_count": null,
   "outputs": [],
   "source": [
    "ax = az.plot_pair(data2draws,  var_names=['prey_birth_frac', 'pred_birth_frac'], divergences=True, textsize=22,)"
   ],
   "metadata": {
    "collapsed": false,
    "pycharm": {
     "name": "#%%\n"
    }
   }
  },
  {
   "cell_type": "code",
   "execution_count": null,
   "outputs": [],
   "source": [
    "ax = az.plot_pair(data2draws,  divergences=True, textsize=22,) #, backend=\"bokeh\" for interactive plot"
   ],
   "metadata": {
    "collapsed": false,
    "pycharm": {
     "name": "#%%\n"
    }
   }
  },
  {
   "cell_type": "markdown",
   "source": [
    "### rank plot\n",
    "indicates more than one peak"
   ],
   "metadata": {
    "collapsed": false,
    "pycharm": {
     "name": "#%% md\n"
    }
   }
  },
  {
   "cell_type": "code",
   "execution_count": null,
   "outputs": [],
   "source": [
    "fig, axes = plt.subplots(1, 2)\n",
    "az.plot_rank(data2draws, var_names=(\"prey_birth_frac\", \"pred_birth_frac\"), ax=axes)"
   ],
   "metadata": {
    "collapsed": false,
    "pycharm": {
     "name": "#%%\n"
    }
   }
  },
  {
   "cell_type": "markdown",
   "source": [
    "\n",
    "# Appendix"
   ],
   "metadata": {
    "collapsed": false,
    "pycharm": {
     "name": "#%% md\n"
    }
   }
  },
  {
   "cell_type": "markdown",
   "source": [
    "## model"
   ],
   "metadata": {
    "collapsed": false,
    "pycharm": {
     "name": "#%% md\n"
    }
   }
  },
  {
   "cell_type": "code",
   "execution_count": null,
   "outputs": [],
   "source": [
    "print(CmdStanModel(stan_file=f\"stan_files/{model.name}/draws2data.stan\").code())\n",
    "print(CmdStanModel(stan_file=f\"stan_files/{model.name}/data2draws.stan\").code())"
   ],
   "metadata": {
    "collapsed": false,
    "pycharm": {
     "name": "#%%\n"
    }
   }
  }
 ],
 "metadata": {
  "kernelspec": {
   "display_name": "Python 3",
   "language": "python",
   "name": "python3"
  },
  "language_info": {
   "codemirror_mode": {
    "name": "ipython",
    "version": 2
   },
   "file_extension": ".py",
   "mimetype": "text/x-python",
   "name": "python",
   "nbconvert_exporter": "python",
   "pygments_lexer": "ipython2",
   "version": "2.7.6"
  }
 },
 "nbformat": 4,
 "nbformat_minor": 0
}