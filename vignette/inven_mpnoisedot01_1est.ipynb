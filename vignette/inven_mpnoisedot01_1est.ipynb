{
 "cells": [
  {
   "cell_type": "code",
   "execution_count": 1,
   "metadata": {
    "collapsed": true,
    "pycharm": {
     "name": "#%%\n"
    }
   },
   "outputs": [],
   "source": [
    "import os\n",
    "\n",
    "import arviz as az\n",
    "import numpy as np\n",
    "import pandas as pd\n",
    "import matplotlib.pyplot as plt\n",
    "from cmdstanpy import CmdStanModel\n",
    "from stanify.calibrator.draws_data_mapper import draws2data2draws\n",
    "from stanify.calibrator.calib_utilities import check_consistency\n",
    "import random\n",
    "random.seed(10)\n",
    "import warnings\n",
    "warnings.filterwarnings('ignore')"
   ]
  },
  {
   "cell_type": "markdown",
   "source": [
    "##  developing model families using visual diagnostics and numeric summaries\n",
    "If you run the user interface code which states input and output format as below, it creates specific model, data, plot (two `.stan`, two `.nc files, multiple plots) in three folders. With minimal number of clicks, your model quality can be inspected. This aim of this vignette is to inspect how given the two outputs (model and data) can be analyzed for your next move.\n",
    "\n",
    "keyword: simulation-based calibration, pair plots, divergence, InferenceData"
   ],
   "metadata": {
    "collapsed": false,
    "pycharm": {
     "name": "#%% md\n"
    }
   }
  },
  {
   "cell_type": "markdown",
   "source": [
    "## user interface"
   ],
   "metadata": {
    "collapsed": false,
    "pycharm": {
     "name": "#%% md\n"
    }
   }
  },
  {
   "cell_type": "code",
   "execution_count": null,
   "outputs": [
    {
     "name": "stderr",
     "output_type": "stream",
     "text": [
      "11:44:57 - cmdstanpy - INFO - compiling stan file /Users/hyunjimoon/Dropbox/stanify/vignette/stan_files/Inven_S1N30Q2R2/draws2data.stan to exe file /Users/hyunjimoon/Dropbox/stanify/vignette/stan_files/Inven_S1N30Q2R2/draws2data\n",
      "11:45:04 - cmdstanpy - INFO - compiled model executable: /Users/hyunjimoon/Dropbox/stanify/vignette/stan_files/Inven_S1N30Q2R2/draws2data\n",
      "11:45:04 - cmdstanpy - WARNING - Stan compiler has produced 1 warnings:\n",
      "11:45:04 - cmdstanpy - WARNING - \n",
      "--- Translating Stan model to C++ code ---\n",
      "bin/stanc --include-paths=/Users/hyunjimoon/Dropbox/stanify/vignette/stan_files/Inven_S1N30Q2R2 --o=/Users/hyunjimoon/Dropbox/stanify/vignette/stan_files/Inven_S1N30Q2R2/draws2data.hpp /Users/hyunjimoon/Dropbox/stanify/vignette/stan_files/Inven_S1N30Q2R2/draws2data.stan\n",
      "Warning in '/Users/hyunjimoon/Dropbox/stanify/vignette/stan_files/Inven_S1N30Q2R2/draws2data.stan', line 43, column 4: Declaration\n",
      "    of arrays by placing brackets after a variable name is deprecated and\n",
      "    will be removed in Stan 2.32.0. Instead use the array keyword before the\n",
      "    type. This can be changed automatically using the auto-format flag to\n",
      "    stanc\n",
      "\n",
      "--- Compiling, linking C++ code ---\n",
      "clang++ -std=c++1y -Wno-unknown-warning-option -Wno-tautological-compare -Wno-sign-compare -D_REENTRANT -Wno-ignored-attributes     -DSTAN_THREADS -I stan/lib/stan_math/lib/tbb_2020.3/include    -O3 -I src -I stan/src -I lib/rapidjson_1.1.0/ -I lib/CLI11-1.9.1/ -I stan/lib/stan_math/ -I stan/lib/stan_math/lib/eigen_3.3.9 -I stan/lib/stan_math/lib/boost_1.78.0 -I stan/lib/stan_math/lib/sundials_6.1.1/include -I stan/lib/stan_math/lib/sundials_6.1.1/src/sundials    -DBOOST_DISABLE_ASSERTS          -c -include-pch stan/src/stan/model/model_header_threads.hpp.gch -x c++ -o /Users/hyunjimoon/Dropbox/stanify/vignette/stan_files/Inven_S1N30Q2R2/draws2data.o /Users/hyunjimoon/Dropbox/stanify/vignette/stan_files/Inven_S1N30Q2R2/draws2data.hpp\n",
      "clang++ -std=c++1y -Wno-unknown-warning-option -Wno-tautological-compare -Wno-sign-compare -D_REENTRANT -Wno-ignored-attributes     -DSTAN_THREADS -I stan/lib/stan_math/lib/tbb_2020.3/include    -O3 -I src -I stan/src -I lib/rapidjson_1.1.0/ -I lib/CLI11-1.9.1/ -I stan/lib/stan_math/ -I stan/lib/stan_math/lib/eigen_3.3.9 -I stan/lib/stan_math/lib/boost_1.78.0 -I stan/lib/stan_math/lib/sundials_6.1.1/include -I stan/lib/stan_math/lib/sundials_6.1.1/src/sundials    -DBOOST_DISABLE_ASSERTS                -Wl,-L,\"/Users/hyunjimoon/.cmdstan/cmdstan-2.30.1/stan/lib/stan_math/lib/tbb\" -Wl,-rpath,\"/Users/hyunjimoon/.cmdstan/cmdstan-2.30.1/stan/lib/stan_math/lib/tbb\"      /Users/hyunjimoon/Dropbox/stanify/vignette/stan_files/Inven_S1N30Q2R2/draws2data.o src/cmdstan/main_threads.o        -Wl,-L,\"/Users/hyunjimoon/.cmdstan/cmdstan-2.30.1/stan/lib/stan_math/lib/tbb\" -Wl,-rpath,\"/Users/hyunjimoon/.cmdstan/cmdstan-2.30.1/stan/lib/stan_math/lib/tbb\"   stan/lib/stan_math/lib/sundials_6.1.1/lib/libsundials_nvecserial.a stan/lib/stan_math/lib/sundials_6.1.1/lib/libsundials_cvodes.a stan/lib/stan_math/lib/sundials_6.1.1/lib/libsundials_idas.a stan/lib/stan_math/lib/sundials_6.1.1/lib/libsundials_kinsol.a  stan/lib/stan_math/lib/tbb/libtbb.dylib stan/lib/stan_math/lib/tbb/libtbbmalloc.dylib stan/lib/stan_math/lib/tbb/libtbbmalloc_proxy.dylib -o /Users/hyunjimoon/Dropbox/stanify/vignette/stan_files/Inven_S1N30Q2R2/draws2data\n",
      "rm -f /Users/hyunjimoon/Dropbox/stanify/vignette/stan_files/Inven_S1N30Q2R2/draws2data.o\n",
      "\n",
      "11:45:05 - cmdstanpy - INFO - CmdStan start processing\n"
     ]
    },
    {
     "data": {
      "text/plain": "chain 1 |          | 00:00 Status",
      "application/vnd.jupyter.widget-view+json": {
       "version_major": 2,
       "version_minor": 0,
       "model_id": "2c17785305e24ed982186636d86a4451"
      }
     },
     "metadata": {},
     "output_type": "display_data"
    },
    {
     "name": "stdout",
     "output_type": "stream",
     "text": [
      "                                                                                "
     ]
    },
    {
     "name": "stderr",
     "output_type": "stream",
     "text": [
      "11:45:05 - cmdstanpy - INFO - CmdStan done processing.\n"
     ]
    },
    {
     "name": "stdout",
     "output_type": "stream",
     "text": [
      "\n"
     ]
    },
    {
     "name": "stderr",
     "output_type": "stream",
     "text": [
      "11:45:05 - cmdstanpy - INFO - compiling stan file /Users/hyunjimoon/Dropbox/stanify/vignette/stan_files/Inven_S1N30Q2R2/data2draws.stan to exe file /Users/hyunjimoon/Dropbox/stanify/vignette/stan_files/Inven_S1N30Q2R2/data2draws\n",
      "11:45:15 - cmdstanpy - INFO - compiled model executable: /Users/hyunjimoon/Dropbox/stanify/vignette/stan_files/Inven_S1N30Q2R2/data2draws\n",
      "11:45:16 - cmdstanpy - INFO - CmdStan start processing\n"
     ]
    },
    {
     "data": {
      "text/plain": "chain 1 |          | 00:00 Status",
      "application/vnd.jupyter.widget-view+json": {
       "version_major": 2,
       "version_minor": 0,
       "model_id": "7aff4369e7254d30b94e0e357a1acaf8"
      }
     },
     "metadata": {},
     "output_type": "display_data"
    },
    {
     "data": {
      "text/plain": "chain 2 |          | 00:00 Status",
      "application/vnd.jupyter.widget-view+json": {
       "version_major": 2,
       "version_minor": 0,
       "model_id": "c8bc6f079a294e438d0e3e684688f3b9"
      }
     },
     "metadata": {},
     "output_type": "display_data"
    },
    {
     "data": {
      "text/plain": "chain 3 |          | 00:00 Status",
      "application/vnd.jupyter.widget-view+json": {
       "version_major": 2,
       "version_minor": 0,
       "model_id": "50822eb8704b44a18c2013d80c191ecc"
      }
     },
     "metadata": {},
     "output_type": "display_data"
    },
    {
     "data": {
      "text/plain": "chain 4 |          | 00:00 Status",
      "application/vnd.jupyter.widget-view+json": {
       "version_major": 2,
       "version_minor": 0,
       "model_id": "8cd74102dd81440a98f1cc050afde786"
      }
     },
     "metadata": {},
     "output_type": "display_data"
    }
   ],
   "source": [
    "precision ={\n",
    "    \"S\": 1, # # of draws from prior\n",
    "    \"M\": 100, # # of draws from posterior (# of chains * # of draws from each chain)\n",
    "    \"N\": 30, # # of observation\n",
    "    \"R\": 2, # # of subgroups for hierarchical Bayes\n",
    "}\n",
    "\n",
    "setting = {\n",
    "    \"est_param_names\" : [\"inventory_adjustment_time\"], #, \"wip_adjustment_time\"\n",
    "    \"hier_est_param_names\": [\"inventory_adjustment_time\"], #\"wip_adjustment_time\",\n",
    "    \"target_simulated_vector_names\" : [\"production_rate_stocked\", \"production_start_rate_stocked\"],\n",
    "    \"driving_vector_names\" : [\"customer_order_rate\", \"process_noise_uniform_driving\"],\n",
    "    \"model_name\": \"Inven\"\n",
    "}\n",
    "\n",
    "numeric = {\n",
    "    \"customer_order_rate\": np.tile(pd.read_csv('../input_data/example_retail_sales.csv').iloc[:precision['N'], 1], 1),\n",
    "    \"process_noise_uniform_driving\": np.random.uniform(low=-.5, high=.5, size=precision['N']),\n",
    "    'process_noise_scale': .1\n",
    "}\n",
    "m_noise_mean = numeric[\"customer_order_rate\"].mean()*.01\n",
    "prior = {\n",
    "    (\"inventory_adjustment_time\", \"normal\", 7.00, 0.7, 0),\n",
    "   # (\"wip_adjustment_time\", \"normal\", 2, 0.02, 0),\n",
    "    (\"m_noise_scale\", \"normal\", m_noise_mean, m_noise_mean * .1, 0)\n",
    "}\n",
    "\n",
    "output_format = dict(\n",
    "    prior_predictive=[\"production_rate_stocked_obs\", \"production_start_rate_stocked_obs\"],\n",
    "    posterior_predictive=[\"production_rate_stocked_obs_post\", \"production_start_rate_stocked_obs_post\"],\n",
    "    log_likelihood={\n",
    "        \"loglik\": \"loglik\"\n",
    "    },\n",
    "    coords={\n",
    "        \"time\": [n for n in range(precision['N'])],\n",
    "        \"stock\": setting['target_simulated_vector_names'],\n",
    "        \"region\": [r for r in range(precision['R'])]\n",
    "    },\n",
    "    dims={\n",
    "        'initial_outcome': [\"stock\"],\n",
    "        'integrated_result': [\"time\", \"stock\"],\n",
    "        'production_rate_stocked': [\"time\"],\n",
    "        'production_start_rate_stocked': [\"time\"],\n",
    "        'process_noise': [\"time\"],\n",
    "        \"production_rate_stocked_obs\": [\"time\"],\n",
    "        \"production_start_rate_stocked_obs\": [\"time\"],\n",
    "    }\n",
    ")\n",
    "\n",
    "if check_consistency(setting, precision, numeric, prior, output_format):\n",
    "    model = draws2data2draws('../vensim_models/inventory/inventory.mdl', setting, precision, numeric, prior, output_format)"
   ],
   "metadata": {
    "collapsed": false,
    "pycharm": {
     "name": "#%%\n",
     "is_executing": true
    }
   }
  },
  {
   "cell_type": "markdown",
   "source": [
    "We load produced data for plotting. Please refer to the end of this document for model (stan code) and data structure which is Stanify's main contribution, but not the scope here.\n",
    "\n",
    "`data2draws` have four groups: `posterior`, `prior_predictive`, `log_likelihood`, `samp_stats`, `observed_data`. First click the arrow below to inspect dataset structure of each group. If you click database icon, it will show each data variable (estimated parameter, target simulated vectors for `posterior` group, observed vector (adding measurement noise on target simulated vector posterior) for `osberved_data` group, loglikelihood of each posterior sample for `log_likelihood`, lp, acceptance_rate, tree_depth, energy (HMC alg.parameters) `sample_stats_prior` group)"
   ],
   "metadata": {
    "collapsed": false,
    "pycharm": {
     "name": "#%% md\n"
    }
   }
  },
  {
   "cell_type": "code",
   "execution_count": null,
   "outputs": [],
   "source": [
    "modelname = \"inven_S1N30Q2R1\"\n",
    "sbc = az.from_netcdf(f\"data/{modelname}/sbc.nc\")\n",
    "sbc.add_groups({\"observed_data\": sbc.prior_predictive})\n",
    "sbc"
   ],
   "metadata": {
    "collapsed": false,
    "pycharm": {
     "name": "#%%\n",
     "is_executing": true
    }
   }
  },
  {
   "cell_type": "markdown",
   "source": [
    "`sbc_inferencedata` type consists of five groups. `prior`, `prior_predictive`, `samp_stats_prior`. Click the arrow to inspect dataset structure of each group. If you click database icon, it will show each data variable (estimated parameter, target simulated vectors for `prior` group, observed vector for `prior_predictive` group, lp and acceptance rate for `sample_stats_prior` group).\n",
    "Posterior group is the estimated result and arviz summary summarizes both estimated result and the quality of the estiamtion."
   ],
   "metadata": {
    "collapsed": false,
    "pycharm": {
     "name": "#%% md\n"
    }
   }
  },
  {
   "cell_type": "code",
   "execution_count": null,
   "outputs": [],
   "source": [
    "sbc.posterior[list(setting['est_param_names'])]"
   ],
   "metadata": {
    "collapsed": false,
    "pycharm": {
     "name": "#%%\n",
     "is_executing": true
    }
   }
  },
  {
   "cell_type": "markdown",
   "source": [
    "Estimated values are different from groud truth, which is"
   ],
   "metadata": {
    "collapsed": false,
    "pycharm": {
     "name": "#%% md\n"
    }
   }
  },
  {
   "cell_type": "code",
   "execution_count": null,
   "outputs": [],
   "source": [
    "for param in setting['est_param_names']:\n",
    "    print(f'prior value of {param}', sbc.prior[param].values)\n",
    "    print(f'posterior values of {param}', sbc.posterior[param].values)"
   ],
   "metadata": {
    "collapsed": false,
    "pycharm": {
     "name": "#%%\n",
     "is_executing": true
    }
   }
  },
  {
   "cell_type": "markdown",
   "source": [
    "summary function returns mean, sd, credible interval for estimated parameter and target simulated vector. mcse, effective sample size (ess), r_hat tells quality of each variables' sample. Refer to [Stan manual](https://mc-stan.org/docs/reference-manual/effective-sample-size.html) for ess details."
   ],
   "metadata": {
    "collapsed": false,
    "pycharm": {
     "name": "#%% md\n"
    }
   }
  },
  {
   "cell_type": "code",
   "execution_count": null,
   "outputs": [],
   "source": [
    "az.summary(sbc.posterior[setting['est_param_names']])"
   ],
   "metadata": {
    "collapsed": false,
    "pycharm": {
     "name": "#%%\n",
     "is_executing": true
    }
   }
  },
  {
   "cell_type": "markdown",
   "source": [
    "The PPC (prior/poseterior predictive check) plot is a standard way for Bayesian checking. It serves complementary role with simulation-based calibration (SBC). Two checks happen in different space: PPC in observation space as time series, SBC in parameter space as rank comparison between the ground truth and retrieved estimated samples."
   ],
   "metadata": {
    "collapsed": false,
    "pycharm": {
     "name": "#%% md\n"
    }
   }
  },
  {
   "cell_type": "code",
   "execution_count": null,
   "outputs": [],
   "source": [
    "az.plot_ppc(sbc, data_pairs = {'supplyline_obs':'predator_obs_post', 'prey_obs':'prey_obs_post'})"
   ],
   "metadata": {
    "collapsed": false,
    "pycharm": {
     "name": "#%%\n",
     "is_executing": true
    }
   }
  },
  {
   "cell_type": "markdown",
   "source": [],
   "metadata": {
    "collapsed": false,
    "pycharm": {
     "name": "#%% md\n"
    }
   }
  },
  {
   "cell_type": "markdown",
   "source": [
    "## Diagnose visually with time series, trace, pair, rank plots"
   ],
   "metadata": {
    "collapsed": false,
    "pycharm": {
     "name": "#%% md\n"
    }
   }
  },
  {
   "cell_type": "markdown",
   "source": [
    "### time series of target simulated and its measurement noise added observed vector"
   ],
   "metadata": {
    "collapsed": false,
    "pycharm": {
     "name": "#%% md\n"
    }
   }
  },
  {
   "cell_type": "markdown",
   "source": [
    "### pair plot focused and all"
   ],
   "metadata": {
    "collapsed": false,
    "pycharm": {
     "name": "#%% md\n"
    }
   }
  },
  {
   "cell_type": "code",
   "execution_count": null,
   "outputs": [],
   "source": [
    "ax = az.plot_pair(sbc,  var_names=['prey_birth_frac', 'pred_birth_frac'], divergences=True, textsize=22,)"
   ],
   "metadata": {
    "collapsed": false,
    "pycharm": {
     "name": "#%%\n",
     "is_executing": true
    }
   }
  },
  {
   "cell_type": "code",
   "execution_count": null,
   "outputs": [],
   "source": [
    "ax = az.plot_pair(sbc,  divergences=True, textsize=22,) #, backend=\"bokeh\" for interactive plot"
   ],
   "metadata": {
    "collapsed": false,
    "pycharm": {
     "name": "#%%\n",
     "is_executing": true
    }
   }
  },
  {
   "cell_type": "markdown",
   "source": [
    "## comparing observed data (from prior predictive) with posterior predictive"
   ],
   "metadata": {
    "collapsed": false,
    "pycharm": {
     "name": "#%% md\n"
    }
   }
  },
  {
   "cell_type": "markdown",
   "source": [
    "### rank plot\n",
    "Rank plots are histograms of the ranked posterior draws (ranked over all chains) plotted separately for each chain. If all of the chains are targeting the same posterior, we expect the ranks in each chain to be uniform, whereas if one chain has a different location or scale parameter, this will be reflected in the deviation from uniformity. If rank plots of all chains look similar, this indicates good mixing of the chains. Plot below indicates bad mixing.\n",
    "\n"
   ],
   "metadata": {
    "collapsed": false,
    "pycharm": {
     "name": "#%% md\n"
    }
   }
  },
  {
   "cell_type": "code",
   "execution_count": null,
   "outputs": [],
   "source": [
    "fig, axes = plt.subplots(1, 2)\n",
    "az.plot_rank(sbc, var_names=(\"prey_birth_frac\", \"pred_birth_frac\"), ax=axes)"
   ],
   "metadata": {
    "collapsed": false,
    "pycharm": {
     "name": "#%%\n",
     "is_executing": true
    }
   }
  },
  {
   "cell_type": "markdown",
   "source": [
    "\n",
    "# Appendix"
   ],
   "metadata": {
    "collapsed": false,
    "pycharm": {
     "name": "#%% md\n"
    }
   }
  },
  {
   "cell_type": "markdown",
   "source": [
    "## model"
   ],
   "metadata": {
    "collapsed": false,
    "pycharm": {
     "name": "#%% md\n"
    }
   }
  },
  {
   "cell_type": "code",
   "execution_count": null,
   "outputs": [],
   "source": [
    "print(CmdStanModel(stan_file=f\"stan_files/{modelname}/draws2data.stan\").code())\n",
    "print(CmdStanModel(stan_file=f\"stan_files/{modelname}/data2draws.stan\").code())"
   ],
   "metadata": {
    "collapsed": false,
    "pycharm": {
     "name": "#%%\n",
     "is_executing": true
    }
   }
  }
 ],
 "metadata": {
  "kernelspec": {
   "display_name": "Python 3",
   "language": "python",
   "name": "python3"
  },
  "language_info": {
   "codemirror_mode": {
    "name": "ipython",
    "version": 2
   },
   "file_extension": ".py",
   "mimetype": "text/x-python",
   "name": "python",
   "nbconvert_exporter": "python",
   "pygments_lexer": "ipython2",
   "version": "2.7.6"
  }
 },
 "nbformat": 4,
 "nbformat_minor": 0
}